{
 "cells": [
  {
   "cell_type": "markdown",
   "metadata": {},
   "source": [
    "QuickSort Algorithm\n",
    "\n",
    "Write a program to implement the QuickSort algorithm.\n",
    "\n",
    "Expected Output: If the input array is [3, 6, 8, 10, 1, 2, 1], the output should be [1, 1, 2, 3, 6, 8, 10]."
   ]
  },
  {
   "cell_type": "code",
   "execution_count": 1,
   "metadata": {},
   "outputs": [
    {
     "name": "stdout",
     "output_type": "stream",
     "text": [
      "[1, 1, 2, 3, 6, 8, 10]\n"
     ]
    }
   ],
   "source": [
    "def quicksort(arr):\n",
    "    if len(arr) <= 1:\n",
    "        return arr  \n",
    "\n",
    "    pivot = arr[len(arr) // 2]  \n",
    "    left = [x for x in arr if x < pivot]\n",
    "    middle = [x for x in arr if x == pivot]\n",
    "    right = [x for x in arr if x > pivot]\n",
    "\n",
    "    return quicksort(left) + middle + quicksort(right)\n",
    "\n",
    "\n",
    "input_array = [3, 6, 8, 10, 1, 2, 1]\n",
    "sorted_array = quicksort(input_array)\n",
    "print(sorted_array)\n"
   ]
  },
  {
   "cell_type": "markdown",
   "metadata": {},
   "source": [
    "Knapsack Problem\n",
    "\n",
    "Write a program to solve the 0/1 Knapsack Problem using dynamic programming.\n",
    "\n",
    "Expected Output: If the input weights are [1, 3, 4, 5], values are [1, 4, 5, 7], and the maximum capacity is 7, the output should be 9.\n"
   ]
  },
  {
   "cell_type": "code",
   "execution_count": 2,
   "metadata": {},
   "outputs": [
    {
     "name": "stdout",
     "output_type": "stream",
     "text": [
      "9\n"
     ]
    }
   ],
   "source": [
    "def knapSack(W, wt, val, n):\n",
    "    K = [[0 for x in range(W + 1)] for x in range(n + 1)]\n",
    "\n",
    "    for i in range(n + 1):\n",
    "        for w in range(W + 1):\n",
    "            if i == 0 or w == 0:\n",
    "                K[i][w] = 0\n",
    "            elif wt[i-1] <= w:\n",
    "                K[i][w] = max(val[i-1]\n",
    "                              + K[i-1][w-wt[i-1]],\n",
    "                              K[i-1][w])\n",
    "            else:\n",
    "                K[i][w] = K[i-1][w]\n",
    "\n",
    "    return K[n][W]\n",
    "\n",
    "\n",
    "\n",
    "profit = [1, 4, 5,7]\n",
    "weight = [1, 3, 4, 5]\n",
    "W = 7\n",
    "n = len(profit)\n",
    "print(knapSack(W, weight, profit, n))"
   ]
  }
 ],
 "metadata": {
  "kernelspec": {
   "display_name": "Python 3",
   "language": "python",
   "name": "python3"
  },
  "language_info": {
   "codemirror_mode": {
    "name": "ipython",
    "version": 3
   },
   "file_extension": ".py",
   "mimetype": "text/x-python",
   "name": "python",
   "nbconvert_exporter": "python",
   "pygments_lexer": "ipython3",
   "version": "3.12.0"
  }
 },
 "nbformat": 4,
 "nbformat_minor": 2
}
