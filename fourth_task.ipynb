{
 "cells": [
  {
   "cell_type": "markdown",
   "metadata": {},
   "source": [
    "QuickSort Algorithm\n",
    "\n",
    "Write a program to implement the QuickSort algorithm.\n",
    "\n",
    "Expected Output: If the input array is [3, 6, 8, 10, 1, 2, 1], the output should be [1, 1, 2, 3, 6, 8, 10]."
   ]
  },
  {
   "cell_type": "code",
   "execution_count": 3,
   "metadata": {},
   "outputs": [
    {
     "name": "stdout",
     "output_type": "stream",
     "text": [
      "[1, 1, 2, 3, 6, 8, 10]\n"
     ]
    }
   ],
   "source": [
    "def quicksort(arr):\n",
    "    if len(arr) <= 1:\n",
    "        return arr  \n",
    "\n",
    "    pivot = arr[len(arr) // 2]  \n",
    "    left = [x for x in arr if x < pivot]\n",
    "    middle = [x for x in arr if x == pivot]\n",
    "    right = [x for x in arr if x > pivot]\n",
    "\n",
    "    return quicksort(left) + middle + quicksort(right)\n",
    "\n",
    "\n",
    "input_array = [3, 6, 8, 10, 1, 2, 1]\n",
    "sorted_array = quicksort(input_array)\n",
    "print(sorted_array)\n"
   ]
  },
  {
   "cell_type": "markdown",
   "metadata": {},
   "source": [
    "Knapsack Problem\n",
    "\n",
    "Write a program to solve the 0/1 Knapsack Problem using dynamic programming.\n",
    "\n",
    "Expected Output: If the input weights are [1, 3, 4, 5], values are [1, 4, 5, 7], and the maximum capacity is 7, the output should be 9.\n"
   ]
  },
  {
   "cell_type": "code",
   "execution_count": 6,
   "metadata": {},
   "outputs": [
    {
     "name": "stdout",
     "output_type": "stream",
     "text": [
      "9\n"
     ]
    }
   ],
   "source": [
    "def knapSack(W, wt, val, n):\n",
    "    K = [[0 for x in range(W + 1)] for x in range(n + 1)]\n",
    "\n",
    "    for i in range(n + 1):\n",
    "        for w in range(W + 1):\n",
    "            if i == 0 or w == 0:\n",
    "                K[i][w] = 0\n",
    "            elif wt[i-1] <= w:\n",
    "                K[i][w] = max(val[i-1] + K[i-1][w-wt[i-1]], K[i-1][w])\n",
    "            else:\n",
    "                K[i][w] = K[i-1][w]\n",
    "\n",
    "    return K[n][W]\n",
    "\n",
    "\n",
    "\n",
    "profit = [1, 4, 5,7]\n",
    "weight = [1, 3, 4, 5]\n",
    "W = 7\n",
    "n = len(profit)\n",
    "print(knapSack(W, weight, profit, n))"
   ]
  },
  {
   "cell_type": "markdown",
   "metadata": {},
   "source": [
    "Graph Traversal (BFS and DFS)\n",
    "\n",
    "Implement Breadth-First Search (BFS) and Depth-First Search (DFS) for graph traversal.\n",
    "\n",
    "Expected Output: If the input graph is {0: [1, 2], 1: [2], 2: [0, 3], 3: [3]}, the BFS starting from node 2 should return [2, 0, 3, 1], and the DFS starting from node 2 should return \n",
    "[2, 0, 1, 3].\n"
   ]
  },
  {
   "cell_type": "code",
   "execution_count": 1,
   "metadata": {},
   "outputs": [
    {
     "name": "stdout",
     "output_type": "stream",
     "text": [
      "BFS traversal starting from node 2: [2, 0, 3, 1]\n"
     ]
    }
   ],
   "source": [
    "import networkx as nx\n",
    "from collections import deque\n",
    "\n",
    "def bfs(graph, start):\n",
    "    visited = set()\n",
    "    queue = deque([start])\n",
    "    traversal_order = []\n",
    "\n",
    "    while queue:\n",
    "        node = queue.popleft()\n",
    "        if node not in visited:\n",
    "            visited.add(node)\n",
    "            traversal_order.append(node)\n",
    "            for neighbor in graph.neighbors(node):\n",
    "                if neighbor not in visited:\n",
    "                    queue.append(neighbor)\n",
    "    return traversal_order\n",
    "\n",
    "G = nx.DiGraph()\n",
    "G.add_edges_from([(0, 1), (0, 2), (1, 2), (2, 0), (2, 3), (3, 3)])\n",
    "\n",
    "start_node = 2\n",
    "bfs_traversal = bfs(G, start_node)\n",
    "print(f\"BFS traversal starting from node {start_node}: {bfs_traversal}\")\n"
   ]
  },
  {
   "cell_type": "code",
   "execution_count": 13,
   "metadata": {},
   "outputs": [
    {
     "name": "stdout",
     "output_type": "stream",
     "text": [
      "DFS traversal starting from node 2: [2, 0, 1, 3]\n"
     ]
    }
   ],
   "source": [
    "import networkx as nx\n",
    "\n",
    "def dfs(graph, start):\n",
    "    visited = set()\n",
    "    traversal_order = []\n",
    "\n",
    "    def dfs_recursive(node):\n",
    "        if node not in visited:\n",
    "            visited.add(node)\n",
    "            traversal_order.append(node)\n",
    "            for neighbor in graph.neighbors(node):\n",
    "                dfs_recursive(neighbor)\n",
    "\n",
    "    dfs_recursive(start)\n",
    "    return traversal_order\n",
    "\n",
    "G = nx.DiGraph()\n",
    "G.add_edges_from([(0, 1), (0, 2), (1, 2), (2, 0), (2, 3), (3, 3)])\n",
    "\n",
    "start_node = 2\n",
    "dfs_traversal = dfs(G, start_node)\n",
    "print(f\"DFS traversal starting from node {start_node}: {dfs_traversal}\")\n"
   ]
  },
  {
   "cell_type": "markdown",
   "metadata": {},
   "source": [
    "Dijkstra's Algorithm\n",
    "\n",
    "Write a program to implement Dijkstra's algorithm for finding the shortest path in a graph.\n",
    "\n",
    "Expected Output: If the input graph is {'A': {'B': 1, 'C': 4}, 'B': {'C': 2, 'D': 5}, 'C': {'D': 1}, 'D': {}} and the starting node is A, the output should be {'A': 0, 'B': 1, 'C': 3, 'D': 4}.\n"
   ]
  },
  {
   "cell_type": "code",
   "execution_count": 3,
   "metadata": {},
   "outputs": [
    {
     "name": "stdout",
     "output_type": "stream",
     "text": [
      "{'A': 0, 'B': 1, 'C': 3, 'D': 4}\n"
     ]
    }
   ],
   "source": [
    "import heapq\n",
    "\n",
    "def dijkstra(graph, start):\n",
    "    shortest_distances = {node: float('inf') for node in graph}\n",
    "    shortest_distances[start] = 0\n",
    "    \n",
    "    minheap = [(0, start)]\n",
    "    \n",
    "    while minheap:\n",
    "        current_distance, current_node = heapq.heappop(minheap)\n",
    "        \n",
    "        if current_distance > shortest_distances[current_node]:\n",
    "            continue\n",
    "        \n",
    "        for neighbor, weight in graph[current_node].items():\n",
    "            distance = current_distance + weight\n",
    "            \n",
    "            if distance < shortest_distances[neighbor]:\n",
    "                shortest_distances[neighbor] = distance\n",
    "                heapq.heappush(minheap, (distance, neighbor))\n",
    "    \n",
    "    return shortest_distances\n",
    "\n",
    "graph = {\n",
    "    'A': {'B': 1, 'C': 4},\n",
    "    'B': {'C': 2, 'D': 5},\n",
    "    'C': {'D': 1},\n",
    "    'D': {}\n",
    "}\n",
    "start_node = 'A'\n",
    "print(dijkstra(graph, start_node))\n"
   ]
  },
  {
   "cell_type": "markdown",
   "metadata": {},
   "source": [
    "Longest Common Subsequence (LCS)\n",
    "\n",
    "Write a program to find the longest common subsequence between two strings.\n",
    "\n",
    "Expected Output: If the input strings are AGGTAB and GXTXAYB, the output should be GTAB."
   ]
  },
  {
   "cell_type": "code",
   "execution_count": 12,
   "metadata": {},
   "outputs": [
    {
     "name": "stdout",
     "output_type": "stream",
     "text": [
      "Output string: ('GTAB', 4)\n"
     ]
    }
   ],
   "source": [
    "def lcs(a, b):\n",
    "    m, n = len(a), len(b)\n",
    "    \n",
    "    dp = [[0] * (n + 1) for _ in range(m + 1)]\n",
    "\n",
    "    for i in range(1, m + 1):\n",
    "        for j in range(1, n + 1):\n",
    "            if a[i - 1] == b[j - 1]:\n",
    "                dp[i][j] = dp[i - 1][j - 1] + 1\n",
    "            else:\n",
    "                dp[i][j] = max(dp[i - 1][j], dp[i][j - 1])\n",
    "    \n",
    "    lcs_characters = []\n",
    "    i, j = m, n\n",
    "    while i > 0 and j > 0:\n",
    "        if a[i - 1] == b[j - 1]:\n",
    "            lcs_characters.append(a[i - 1])\n",
    "            i -= 1\n",
    "            j -= 1\n",
    "        elif dp[i - 1][j] > dp[i][j - 1]:\n",
    "            i -= 1\n",
    "        else:\n",
    "            j -= 1\n",
    "\n",
    "    lcs_characters.reverse()\n",
    "    \n",
    "    return ''.join(lcs_characters), dp[m][n]\n",
    "\n",
    "a = 'AGGTAB'\n",
    "b = 'GXTXAYB'\n",
    "output_string = lcs(a, b)\n",
    "print(f\"Output string: {output_string}\")\n"
   ]
  }
 ],
 "metadata": {
  "kernelspec": {
   "display_name": "Python 3",
   "language": "python",
   "name": "python3"
  },
  "language_info": {
   "codemirror_mode": {
    "name": "ipython",
    "version": 3
   },
   "file_extension": ".py",
   "mimetype": "text/x-python",
   "name": "python",
   "nbconvert_exporter": "python",
   "pygments_lexer": "ipython3",
   "version": "3.12.0"
  }
 },
 "nbformat": 4,
 "nbformat_minor": 2
}
