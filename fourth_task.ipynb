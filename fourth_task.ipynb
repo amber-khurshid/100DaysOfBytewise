{
 "cells": [
  {
   "cell_type": "markdown",
   "metadata": {},
   "source": [
    "QuickSort Algorithm\n",
    "\n",
    "Write a program to implement the QuickSort algorithm.\n",
    "\n",
    "Expected Output: If the input array is [3, 6, 8, 10, 1, 2, 1], the output should be [1, 1, 2, 3, 6, 8, 10]."
   ]
  },
  {
   "cell_type": "code",
   "execution_count": 3,
   "metadata": {},
   "outputs": [
    {
     "name": "stdout",
     "output_type": "stream",
     "text": [
      "[1, 1, 2, 3, 6, 8, 10]\n"
     ]
    }
   ],
   "source": [
    "def quicksort(arr):\n",
    "    if len(arr) <= 1:\n",
    "        return arr  # Base case: arrays with 0 or 1 element are already sorted\n",
    "\n",
    "    pivot = arr[len(arr) // 2]  # Choose pivot as middle element\n",
    "    left = [x for x in arr if x < pivot]\n",
    "    middle = [x for x in arr if x == pivot]\n",
    "    right = [x for x in arr if x > pivot]\n",
    "\n",
    "    return quicksort(left) + middle + quicksort(right)\n",
    "\n",
    "# Example usage:\n",
    "input_array = [3, 6, 8, 10, 1, 2, 1]\n",
    "sorted_array = quicksort(input_array)\n",
    "print(sorted_array)\n"
   ]
  },
  {
   "cell_type": "markdown",
   "metadata": {},
   "source": [
    "Knapsack Problem\n",
    "\n",
    "Write a program to solve the 0/1 Knapsack Problem using dynamic programming.\n",
    "\n",
    "Expected Output: If the input weights are [1, 3, 4, 5], values are [1, 4, 5, 7], and the maximum capacity is 7, the output should be 9.\n"
   ]
  },
  {
   "cell_type": "code",
   "execution_count": null,
   "metadata": {},
   "outputs": [],
   "source": [
    "weights= [1,3,4,5]\n",
    "values = [1,2,3,4]\n",
    "max_capacity=7\n",
    "\n",
    "n=len(weights)\n",
    "m = [[0] * (max_capacity + 1) for _ in range(n + 1)]\n",
    "\n",
    "m[i,w]=0\n",
    "m[0,weights]=0\n",
    "m[i,0]= 0\n",
    "for i in range(1, n+1):\n",
    "    for w in range(1, max_capacity+1):\n",
    "        \n",
    "        if weights[i-1] <= w:\n",
    "            m[i,w]= max(m[i-1, w], m[i-1, w-w[i]], + p[i])\n",
    "\n",
    "\n",
    "\n",
    "# m[0,weights]=0\n",
    "# m[i,0]= 0\n",
    "m[i,w]= max(m[i-1, w], m[i-1, w-w[i]], + p[i])\n",
    "\n",
    "# m[i,w]= /"
   ]
  },
  {
   "cell_type": "code",
   "execution_count": 5,
   "metadata": {},
   "outputs": [
    {
     "name": "stdout",
     "output_type": "stream",
     "text": [
      "Maximum value that can be achieved: 5\n"
     ]
    }
   ],
   "source": [
    "# def knapsack(weights, values, capacity):\n",
    "#     n = len(weights)\n",
    "#     dp = [[0 for _ in range(capacity + 1)] for _ in range(n + 1)]\n",
    "\n",
    "#     for i in range(1, n + 1):\n",
    "#         for w in range(1, capacity + 1):\n",
    "#             if weights[i - 1] <= w:\n",
    "#                 dp[i][w] = max(dp[i - 1][w], values[i - 1] + dp[i - 1][w - weights[i - 1]])\n",
    "#             else:\n",
    "#                 dp[i][w] = dp[i - 1][w]\n",
    "\n",
    "#     return dp[n][capacity]\n",
    "\n",
    "# # Example usage:\n",
    "# weights = [1, 3, 4, 5]\n",
    "# values = [1, 4, 5, 7]\n",
    "# capacity = 7\n",
    "\n",
    "# max_value = knapsack(weights, values, capacity)\n",
    "# print(\"Maximum value that can be achieved:\", max_value)\n",
    "\n",
    "\n",
    "weights = [1, 3, 4, 5]\n",
    "values = [1, 2, 3, 4]\n",
    "max_capacity = 7\n",
    "\n",
    "n = len(weights)\n",
    "m = [[0] * (max_capacity + 1) for _ in range(n + 1)]\n",
    "\n",
    "# Base cases\n",
    "for w in range(max_capacity + 1):\n",
    "    m[0][w] = 0\n",
    "\n",
    "for i in range(1, n + 1):\n",
    "    for w in range(1, max_capacity + 1):\n",
    "        if weights[i - 1] <= w:\n",
    "            m[i][w] = max(m[i - 1][w], values[i - 1] + m[i - 1][w - weights[i - 1]])\n",
    "        else:\n",
    "            m[i][w] = m[i - 1][w]\n",
    "\n",
    "# The maximum value that can be achieved with the given weights and values within the capacity\n",
    "max_value = m[n][max_capacity]\n",
    "\n",
    "print(\"Maximum value that can be achieved:\", max_value)\n",
    "\n"
   ]
  },
  {
   "cell_type": "code",
   "execution_count": 8,
   "metadata": {},
   "outputs": [
    {
     "ename": "TypeError",
     "evalue": "list indices must be integers or slices, not tuple",
     "output_type": "error",
     "traceback": [
      "\u001b[1;31m---------------------------------------------------------------------------\u001b[0m",
      "\u001b[1;31mTypeError\u001b[0m                                 Traceback (most recent call last)",
      "Cell \u001b[1;32mIn[8], line 25\u001b[0m\n\u001b[0;32m     22\u001b[0m values \u001b[38;5;241m=\u001b[39m [\u001b[38;5;241m1\u001b[39m, \u001b[38;5;241m2\u001b[39m, \u001b[38;5;241m3\u001b[39m, \u001b[38;5;241m4\u001b[39m]\n\u001b[0;32m     23\u001b[0m max_capacity \u001b[38;5;241m=\u001b[39m \u001b[38;5;241m7\u001b[39m\n\u001b[1;32m---> 25\u001b[0m max_value \u001b[38;5;241m=\u001b[39m \u001b[43mknapsack\u001b[49m\u001b[43m(\u001b[49m\u001b[43mweights\u001b[49m\u001b[43m,\u001b[49m\u001b[43m \u001b[49m\u001b[43mvalues\u001b[49m\u001b[43m,\u001b[49m\u001b[43m \u001b[49m\u001b[43mmax_capacity\u001b[49m\u001b[43m)\u001b[49m\n\u001b[0;32m     26\u001b[0m \u001b[38;5;28mprint\u001b[39m(\u001b[38;5;124m\"\u001b[39m\u001b[38;5;124mMaximum value that can be achieved:\u001b[39m\u001b[38;5;124m\"\u001b[39m, max_value)\n",
      "Cell \u001b[1;32mIn[8], line 12\u001b[0m, in \u001b[0;36mknapsack\u001b[1;34m(weights, values, max_capacity)\u001b[0m\n\u001b[0;32m      8\u001b[0m \u001b[38;5;28;01mfor\u001b[39;00m w \u001b[38;5;129;01min\u001b[39;00m \u001b[38;5;28mrange\u001b[39m(\u001b[38;5;241m1\u001b[39m, max_capacity \u001b[38;5;241m+\u001b[39m \u001b[38;5;241m1\u001b[39m):\n\u001b[0;32m      9\u001b[0m     \u001b[38;5;28;01mif\u001b[39;00m weights[i \u001b[38;5;241m-\u001b[39m \u001b[38;5;241m1\u001b[39m] \u001b[38;5;241m<\u001b[39m\u001b[38;5;241m=\u001b[39m w:\n\u001b[0;32m     10\u001b[0m         \u001b[38;5;66;03m# If the current item can be included\u001b[39;00m\n\u001b[0;32m     11\u001b[0m         \u001b[38;5;66;03m# dp[i][w] = max(dp[i - 1][w], values[i - 1] + dp[i - 1][w - weights[i - 1]])\u001b[39;00m\n\u001b[1;32m---> 12\u001b[0m         dp[i,w]\u001b[38;5;241m=\u001b[39m \u001b[38;5;28mmax\u001b[39m(\u001b[43mdp\u001b[49m\u001b[43m[\u001b[49m\u001b[43mi\u001b[49m\u001b[38;5;241;43m-\u001b[39;49m\u001b[38;5;241;43m1\u001b[39;49m\u001b[43m,\u001b[49m\u001b[43m \u001b[49m\u001b[43m[\u001b[49m\u001b[43mw\u001b[49m\u001b[43m]\u001b[49m\u001b[43m]\u001b[49m, dp[i\u001b[38;5;241m-\u001b[39m\u001b[38;5;241m1\u001b[39m, w\u001b[38;5;241m-\u001b[39mw[i]], \u001b[38;5;241m+\u001b[39m dp[i])\n\u001b[0;32m     13\u001b[0m     \u001b[38;5;28;01melse\u001b[39;00m:\n\u001b[0;32m     14\u001b[0m         \u001b[38;5;66;03m# If the current item cannot be included\u001b[39;00m\n\u001b[0;32m     15\u001b[0m         dp[i][w] \u001b[38;5;241m=\u001b[39m dp[i \u001b[38;5;241m-\u001b[39m \u001b[38;5;241m1\u001b[39m][w]\n",
      "\u001b[1;31mTypeError\u001b[0m: list indices must be integers or slices, not tuple"
     ]
    }
   ],
   "source": [
    "def knapsack(weights, values, max_capacity):\n",
    "    n = len(weights)\n",
    "    # Create a 2D array to store the maximum value that can be achieved up to each capacity\n",
    "    # dp[i][w] will store the maximum value achievable with first i items and capacity w\n",
    "    dp = [[0] * (max_capacity + 1) for _ in range(n + 1)]\n",
    "\n",
    "    for i in range(1, n + 1):\n",
    "        for w in range(1, max_capacity + 1):\n",
    "            if weights[i - 1] <= w:\n",
    "                # If the current item can be included\n",
    "                dp[i,w]= max(dp[i-1, [w]], dp[i-1, w-w[i]], + dp[i])\n",
    "            else:\n",
    "                # If the current item cannot be included\n",
    "                dp[i][w] = dp[i - 1][w]\n",
    "\n",
    "    # The maximum value achievable with all items and max_capacity\n",
    "    return dp[n][max_capacity]\n",
    "\n",
    "# Example usage\n",
    "weights = [1, 3, 4, 5]\n",
    "values = [1, 2, 3, 4]\n",
    "max_capacity = 7\n",
    "\n",
    "max_value = knapsack(weights, values, max_capacity)\n",
    "print(\"Maximum value that can be achieved:\", max_value)\n"
   ]
  }
 ],
 "metadata": {
  "kernelspec": {
   "display_name": "Python 3",
   "language": "python",
   "name": "python3"
  },
  "language_info": {
   "codemirror_mode": {
    "name": "ipython",
    "version": 3
   },
   "file_extension": ".py",
   "mimetype": "text/x-python",
   "name": "python",
   "nbconvert_exporter": "python",
   "pygments_lexer": "ipython3",
   "version": "3.12.0"
  }
 },
 "nbformat": 4,
 "nbformat_minor": 2
}
