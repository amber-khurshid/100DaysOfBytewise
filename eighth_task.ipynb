{
 "cells": [
  {
   "cell_type": "code",
   "execution_count": 155,
   "metadata": {},
   "outputs": [],
   "source": [
    "# import pandas as pd\n",
    "# df= pd.read_csv('iris.csv')\n",
    "# # df\n",
    "# df.describe()\n",
    "# mean= df['sepal_length'].mean()\n",
    "# print(mean)\n",
    "# median= df['sepal_length'].median()\n",
    "# print(median)\n"
   ]
  },
  {
   "cell_type": "markdown",
   "metadata": {},
   "source": [
    "Exercise: Calculate the mean, median, and mode of the sepal lengths in the Iris dataset."
   ]
  },
  {
   "cell_type": "code",
   "execution_count": 156,
   "metadata": {},
   "outputs": [
    {
     "name": "stdout",
     "output_type": "stream",
     "text": [
      "Mean:  5.843333333333334\n",
      "Median:  5.8\n",
      "Mode:  5.0\n"
     ]
    }
   ],
   "source": [
    "import pandas as pd\n",
    "df= pd.read_csv('iris.csv')\n",
    "df\n",
    "df.describe()\n",
    "mean= df['sepal_length'].mean()\n",
    "print('Mean: ',mean)\n",
    "median= df['sepal_length'].median()\n",
    "print('Median: ', median)\n",
    "mode= df['sepal_length'].mode()\n",
    "print('Mode: ',mode[0])"
   ]
  },
  {
   "cell_type": "markdown",
   "metadata": {},
   "source": [
    "Exercise: Calculate the variance and standard deviation of the petal widths in the Iris dataset."
   ]
  },
  {
   "cell_type": "code",
   "execution_count": 157,
   "metadata": {},
   "outputs": [
    {
     "name": "stdout",
     "output_type": "stream",
     "text": [
      "0.582414317673378\n",
      "0.7631607417008411\n"
     ]
    }
   ],
   "source": [
    "variance = df['petal_width'].var()\n",
    "print(variance )\n",
    "\n",
    "standard_deviation= df['petal_width'].std()\n",
    "print(standard_deviation)"
   ]
  },
  {
   "cell_type": "markdown",
   "metadata": {},
   "source": [
    "Exercise: Create a summary table that includes the mean, median, variance, and standard deviation for all numerical features in the dataset."
   ]
  },
  {
   "cell_type": "code",
   "execution_count": 158,
   "metadata": {},
   "outputs": [
    {
     "name": "stdout",
     "output_type": "stream",
     "text": [
      "                  Mean  Median  Variance   Standard Deviation\n",
      "sepal_length  5.843333    5.80  0.685694             0.828066\n",
      "sepal_width   3.054000    3.00  0.188004             0.433594\n",
      "petal_length  3.758667    4.35  3.113179             1.764420\n",
      "petal_width   1.198667    1.30  0.582414             0.763161\n"
     ]
    }
   ],
   "source": [
    "df.describe()\n",
    "# print(df)\n",
    "df=df.drop(columns=['species'])\n",
    "# print(df)\n",
    "mean = df.mean()\n",
    "median = df.median()\n",
    "variance = df.var()\n",
    "standard_deviation = df.std()\n",
    "\n",
    "summary = pd.DataFrame({\n",
    "        ' Mean': mean,\n",
    "        'Median': median,\n",
    "        'Variance': variance,\n",
    "        ' Standard Deviation': standard_deviation\n",
    "    })\n",
    "\n",
    "print(summary)"
   ]
  },
  {
   "cell_type": "markdown",
   "metadata": {},
   "source": [
    "Exercise: Define a random variable for the sepal length and calculate the probability distribution of sepal lengths."
   ]
  },
  {
   "cell_type": "code",
   "execution_count": 159,
   "metadata": {},
   "outputs": [
    {
     "name": "stdout",
     "output_type": "stream",
     "text": [
      "Probability Distribution of Sepal Lengths:\n",
      "Sepal Length: 4.3 cm, Probability: 0.0067\n",
      "Sepal Length: 4.4 cm, Probability: 0.0200\n",
      "Sepal Length: 4.5 cm, Probability: 0.0067\n",
      "Sepal Length: 4.6 cm, Probability: 0.0267\n",
      "Sepal Length: 4.7 cm, Probability: 0.0133\n",
      "Sepal Length: 4.8 cm, Probability: 0.0333\n",
      "Sepal Length: 4.9 cm, Probability: 0.0400\n",
      "Sepal Length: 5.0 cm, Probability: 0.0667\n",
      "Sepal Length: 5.1 cm, Probability: 0.0600\n",
      "Sepal Length: 5.2 cm, Probability: 0.0267\n",
      "Sepal Length: 5.3 cm, Probability: 0.0067\n",
      "Sepal Length: 5.4 cm, Probability: 0.0400\n",
      "Sepal Length: 5.5 cm, Probability: 0.0467\n",
      "Sepal Length: 5.6 cm, Probability: 0.0400\n",
      "Sepal Length: 5.7 cm, Probability: 0.0533\n",
      "Sepal Length: 5.8 cm, Probability: 0.0467\n",
      "Sepal Length: 5.9 cm, Probability: 0.0200\n",
      "Sepal Length: 6.0 cm, Probability: 0.0400\n",
      "Sepal Length: 6.1 cm, Probability: 0.0400\n",
      "Sepal Length: 6.2 cm, Probability: 0.0267\n",
      "Sepal Length: 6.3 cm, Probability: 0.0600\n",
      "Sepal Length: 6.4 cm, Probability: 0.0467\n",
      "Sepal Length: 6.5 cm, Probability: 0.0333\n",
      "Sepal Length: 6.6 cm, Probability: 0.0133\n",
      "Sepal Length: 6.7 cm, Probability: 0.0533\n",
      "Sepal Length: 6.8 cm, Probability: 0.0200\n",
      "Sepal Length: 6.9 cm, Probability: 0.0267\n",
      "Sepal Length: 7.0 cm, Probability: 0.0067\n",
      "Sepal Length: 7.1 cm, Probability: 0.0067\n",
      "Sepal Length: 7.2 cm, Probability: 0.0200\n",
      "Sepal Length: 7.3 cm, Probability: 0.0067\n",
      "Sepal Length: 7.4 cm, Probability: 0.0067\n",
      "Sepal Length: 7.6 cm, Probability: 0.0067\n",
      "Sepal Length: 7.7 cm, Probability: 0.0267\n",
      "Sepal Length: 7.9 cm, Probability: 0.0067\n"
     ]
    }
   ],
   "source": [
    "random_var= df['sepal_length']\n",
    "probabilityDistribution= random_var.value_counts(normalize=True).sort_index()\n",
    "# print(\" Probability Distribution: \", probabilityDistribution)\n",
    "print(\"Probability Distribution of Sepal Lengths:\")\n",
    "for length, probability in probabilityDistribution.items():\n",
    "    print(f\"Sepal Length: {length} cm, Probability: {probability:.4f}\")"
   ]
  },
  {
   "cell_type": "markdown",
   "metadata": {},
   "source": [
    "Exercise: Plot the probability distribution of sepal lengths using a histogram."
   ]
  },
  {
   "cell_type": "code",
   "execution_count": 160,
   "metadata": {},
   "outputs": [
    {
     "data": {
      "text/plain": [
       "Text(0, 0.5, 'probability distribution')"
      ]
     },
     "execution_count": 160,
     "metadata": {},
     "output_type": "execute_result"
    },
    {
     "data": {
      "image/png": "[encoded data removed]",
      "text/plain": [
       "<Figure size 640x480 with 1 Axes>"
      ]
     },
     "metadata": {},
     "output_type": "display_data"
    }
   ],
   "source": [
    "import matplotlib.pyplot as plt\n",
    "# Plot the histogram\n",
    "plt.hist(random_var,density=True, bins=20,  edgecolor='black')\n",
    "\n",
    "plt.title('probability distribution of sepal lengths')\n",
    "plt.xlabel('sepal length')\n",
    "plt.ylabel('probability distribution')\n"
   ]
  },
  {
   "cell_type": "markdown",
   "metadata": {},
   "source": [
    "Exercise: Calculate the cumulative distribution function (CDF) for the petal lengths and plot it."
   ]
  },
  {
   "cell_type": "code",
   "execution_count": 183,
   "metadata": {},
   "outputs": [
    {
     "data": {
      "image/png": "[encoded data removed]",
      "text/plain": [
       "<Figure size 640x480 with 1 Axes>"
      ]
     },
     "metadata": {},
     "output_type": "display_data"
    }
   ],
   "source": [
    "import matplotlib.pyplot as plt\n",
    "\n",
    "petal_length = df['petal_length']\n",
    "sorted_length = petal_length.sort_values()\n",
    "\n",
    "def cdf(sorted_data):\n",
    "    cdf_values = []\n",
    "    n = len(sorted_data)\n",
    "    for i in range(1, n + 1):\n",
    "        cdf = i / n\n",
    "        cdf_values.append(cdf)\n",
    "    return cdf_values\n",
    "\n",
    "cdf_values = cdf(sorted_length)\n",
    "\n",
    "plt.plot(sorted_length, cdf_values, marker='.', linestyle='none')\n",
    "\n",
    "plt.title('Cumulative Distribution Function (CDF) of Petal Lengths')\n",
    "plt.xlabel('Petal Length (cm)')\n",
    "plt.ylabel('Cumulative Probability')\n",
    "\n",
    "plt.show()\n"
   ]
  },
  {
   "cell_type": "markdown",
   "metadata": {},
   "source": [
    "Exercise: Calculate and plot the probability density function (PDF) for sepal width."
   ]
  },
  {
   "cell_type": "code",
   "execution_count": null,
   "metadata": {},
   "outputs": [],
   "source": []
  },
  {
   "cell_type": "markdown",
   "metadata": {},
   "source": [
    "Exercise: Determine the probability of a randomly selected iris flower having a petal length greater than a given value."
   ]
  },
  {
   "cell_type": "code",
   "execution_count": 189,
   "metadata": {},
   "outputs": [
    {
     "name": "stdout",
     "output_type": "stream",
     "text": [
      "probability of a randomly selected iris flower having a petal length greater than a 4.5 is 0.42.\n"
     ]
    }
   ],
   "source": [
    "petal_length = df['petal_length']\n",
    "random_value = 4.5\n",
    "\n",
    "total= len(petal_length)\n",
    "greater = sum(petal_length > random_value)\n",
    "probability = greater / total\n",
    "print(\"probability of a randomly selected iris flower having a petal length greater than a {} is {}.\".format(random_value, probability))\n"
   ]
  },
  {
   "cell_type": "markdown",
   "metadata": {},
   "source": [
    "Exercise: Perform a hypothesis test to determine if there is a significant difference in the mean petal length between two species of iris flowers."
   ]
  }
 ],
 "metadata": {
  "kernelspec": {
   "display_name": "Python 3",
   "language": "python",
   "name": "python3"
  },
  "language_info": {
   "codemirror_mode": {
    "name": "ipython",
    "version": 3
   },
   "file_extension": ".py",
   "mimetype": "text/x-python",
   "name": "python",
   "nbconvert_exporter": "python",
   "pygments_lexer": "ipython3",
   "version": "3.12.0"
  }
 },
 "nbformat": 4,
 "nbformat_minor": 2
}
