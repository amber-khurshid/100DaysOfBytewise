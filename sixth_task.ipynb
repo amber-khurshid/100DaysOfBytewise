{
 "cells": [
  {
   "cell_type": "markdown",
   "metadata": {},
   "source": [
    "Exercise: Load a simple dataset (e.g., the Iris dataset from Scikit-Learn) and print the first 5 rows."
   ]
  },
  {
   "cell_type": "code",
   "execution_count": 142,
   "metadata": {},
   "outputs": [
    {
     "name": "stdout",
     "output_type": "stream",
     "text": [
      "   sepal length (cm)  sepal width (cm)  petal length (cm)  petal width (cm)\n",
      "0                5.1               3.5                1.4               0.2\n",
      "1                4.9               3.0                1.4               0.2\n",
      "2                4.7               3.2                1.3               0.2\n",
      "3                4.6               3.1                1.5               0.2\n",
      "4                5.0               3.6                1.4               0.2\n"
     ]
    }
   ],
   "source": [
    "from sklearn.datasets import load_iris\n",
    "import pandas as pd\n",
    "data = load_iris()\n",
    "df = pd.DataFrame(data.data, columns=data.feature_names)\n",
    "print(df.head())\n"
   ]
  },
  {
   "cell_type": "markdown",
   "metadata": {},
   "source": [
    "Exercise: Implement a function that takes a dataset and returns the number of features and samples."
   ]
  },
  {
   "cell_type": "code",
   "execution_count": 143,
   "metadata": {},
   "outputs": [
    {
     "name": "stdout",
     "output_type": "stream",
     "text": [
      "Features of fruit dataset:  ['fruit_label', 'fruit_name', 'fruit_subtype', 'mass', 'width', 'height', 'color_score']\n",
      "Samples of fruit dataset:     fruit_label fruit_name fruit_subtype   mass  width  height  color_score\n",
      "0            1      apple  granny_smith  192.0    8.4     7.3         0.55\n",
      "1            1      apple  granny_smith  180.0    8.0     6.8         0.59\n",
      "2            1      apple  granny_smith  176.0    7.4     7.2         0.60\n",
      "3            2   mandarin      mandarin   86.0    6.2     4.7         0.80\n",
      "4            2   mandarin      mandarin   84.0    6.0     4.6         0.79\n"
     ]
    }
   ],
   "source": [
    "df = pd.read_csv(\"fruit_data_with_colors.csv\")\n",
    "features = df.columns.tolist()\n",
    "print(\"Features of fruit dataset: \", features)\n",
    "samples = df.head()\n",
    "print(\"Samples of fruit dataset: \", samples)"
   ]
  },
  {
   "cell_type": "markdown",
   "metadata": {},
   "source": [
    "Exercise: Split a dataset into training and testing sets with an 80/20 split."
   ]
  },
  {
   "cell_type": "code",
   "execution_count": 144,
   "metadata": {},
   "outputs": [
    {
     "name": "stdout",
     "output_type": "stream",
     "text": [
      "    fruit_label fruit_name     fruit_subtype     mass  width  height  \\\n",
      "0             1      apple      granny_smith    192.0    8.4     7.3   \n",
      "1             1      apple      granny_smith    180.0    8.0     6.8   \n",
      "2             1      apple      granny_smith    176.0    7.4     7.2   \n",
      "3             2   mandarin          mandarin     86.0    6.2     4.7   \n",
      "4             2   mandarin          mandarin     84.0    6.0     4.6   \n",
      "5             2   mandarin          mandarin     80.0    5.8     4.3   \n",
      "6             2   mandarin          mandarin     80.0    5.9     4.3   \n",
      "7             2   mandarin          mandarin     76.0    5.8     4.0   \n",
      "8             1      apple          braeburn    178.0    7.1     7.8   \n",
      "9             1      apple          braeburn    172.0    7.4     7.0   \n",
      "10            1      apple          braeburn    166.0    6.9     7.3   \n",
      "11            1      apple          braeburn    172.0    7.1     7.6   \n",
      "12            1      apple          braeburn    154.0    7.0     7.1   \n",
      "13            1      apple  golden_delicious    164.0    7.3     7.7   \n",
      "14            1      apple  golden_delicious    152.0    7.6     7.3   \n",
      "15            1      apple  golden_delicious    156.0    7.7     7.1   \n",
      "16            1      apple  golden_delicious   1000.0    7.6     7.5   \n",
      "17            4      lemon    spanish_belsan      NaN    7.2     NaN   \n",
      "18            4      lemon    spanish_belsan      NaN    7.3     NaN   \n",
      "19            4      lemon    spanish_belsan      NaN    7.2     NaN   \n",
      "20            4      lemon    spanish_belsan      NaN    7.3     NaN   \n",
      "21            4      lemon    spanish_belsan      NaN    7.3     NaN   \n",
      "22            4      lemon    spanish_belsan      NaN    7.3     NaN   \n",
      "23            4      lemon           unknown      NaN    5.8     NaN   \n",
      "24            4      lemon           unknown      NaN    6.0     NaN   \n",
      "25            3     orange     spanish_jumbo      NaN    9.0     NaN   \n",
      "26            3     orange     spanish_jumbo    356.0    9.2     9.2   \n",
      "27            3     orange     spanish_jumbo    362.0    9.6     9.2   \n",
      "28            3     orange  selected_seconds    204.0    7.5     9.2   \n",
      "29            3     orange  selected_seconds    140.0    6.7     7.1   \n",
      "30            3     orange  selected_seconds    160.0    7.0     7.4   \n",
      "31            3     orange  selected_seconds    158.0    7.1     7.5   \n",
      "32            3     orange  selected_seconds    210.0    7.8     8.0   \n",
      "33            3     orange  selected_seconds    164.0    7.2     7.0   \n",
      "34            3     orange      turkey_navel    190.0    7.5     8.1   \n",
      "35            3     orange      turkey_navel    142.0    7.6     7.8   \n",
      "36            3     orange      turkey_navel    150.0    7.1     7.9   \n",
      "37            3     orange      turkey_navel    160.0    7.1     7.6   \n",
      "38            3     orange      turkey_navel    154.0    7.3     7.3   \n",
      "39            3     orange      turkey_navel    158.0    7.2     7.8   \n",
      "40            3     orange      turkey_navel    154.0    7.3     7.5   \n",
      "41            3     orange      turkey_navel  30000.0    7.1     7.5   \n",
      "42            3     orange      turkey_navel    180.0    7.6     8.2   \n",
      "43            3     orange      turkey_navel    154.0    7.2     7.2   \n",
      "44            4      lemon    spanish_belsan    194.0    7.2    10.3   \n",
      "45            4      lemon    spanish_belsan    200.0    7.3    10.5   \n",
      "46            4      lemon    spanish_belsan    186.0    7.2     9.2   \n",
      "47            4      lemon    spanish_belsan    216.0    7.3    10.2   \n",
      "48            4      lemon    spanish_belsan    196.0    7.3    10.2   \n",
      "49            4      lemon    spanish_belsan    174.0    7.3    10.1   \n",
      "50            4      lemon           unknown    132.0    5.8     8.7   \n",
      "51            4      lemon           unknown    130.0    6.0     8.2   \n",
      "52            4      lemon           unknown    116.0    6.0     7.5   \n",
      "53            4      lemon           unknown    118.0    5.9     8.0   \n",
      "54            4      lemon           unknown    120.0    6.0     8.4   \n",
      "55            4      lemon           unknown    116.0    6.1     8.5   \n",
      "56            4      lemon           unknown    116.0    6.3     7.7   \n",
      "57            4      lemon           unknown    116.0    5.9     8.1   \n",
      "58            4      lemon           unknown    152.0    6.5     8.5   \n",
      "59            4      lemon           unknown    118.0    6.1     8.1   \n",
      "\n",
      "    color_score  \n",
      "0          0.55  \n",
      "1          0.59  \n",
      "2          0.60  \n",
      "3          0.80  \n",
      "4          0.79  \n",
      "5          0.77  \n",
      "6          0.81  \n",
      "7          0.81  \n",
      "8          0.92  \n",
      "9          0.89  \n",
      "10         0.93  \n",
      "11         0.92  \n",
      "12         0.88  \n",
      "13         0.70  \n",
      "14         0.69  \n",
      "15         0.69  \n",
      "16         0.67  \n",
      "17         0.70  \n",
      "18         0.72  \n",
      "19         0.72  \n",
      "20         0.71  \n",
      "21         0.72  \n",
      "22         0.72  \n",
      "23         0.73  \n",
      "24         0.71  \n",
      "25         0.75  \n",
      "26         0.75  \n",
      "27         0.74  \n",
      "28         0.77  \n",
      "29         0.72  \n",
      "30         0.81  \n",
      "31         0.79  \n",
      "32         0.82  \n",
      "33         0.80  \n",
      "34         0.74  \n",
      "35         0.75  \n",
      "36         0.75  \n",
      "37         0.76  \n",
      "38         0.79  \n",
      "39         0.77  \n",
      "40         0.76  \n",
      "41         0.78  \n",
      "42         0.79  \n",
      "43         0.82  \n",
      "44         0.70  \n",
      "45         0.72  \n",
      "46         0.72  \n",
      "47         0.71  \n",
      "48         0.72  \n",
      "49         0.72  \n",
      "50         0.73  \n",
      "51         0.71  \n",
      "52         0.72  \n",
      "53         0.72  \n",
      "54         0.74  \n",
      "55         0.71  \n",
      "56         0.72  \n",
      "57         0.73  \n",
      "58         0.72  \n",
      "59         0.70  \n",
      "Training set - Features shape: (48, 6)  Target shape: (48,)\n",
      "Testing set - Features shape: (12, 6)  Target shape: (12,)\n"
     ]
    }
   ],
   "source": [
    "from sklearn.model_selection import train_test_split\n",
    "from sklearn.impute import SimpleImputer\n",
    "\n",
    "df = pd.read_csv(\"fruit_data_with_colors.csv\")\n",
    "print(df)\n",
    "X = df.drop(columns=['fruit_label'])\n",
    "y = df['fruit_label']\n",
    "X_train, X_test, y_train, y_test = train_test_split(X, y, test_size=0.2, random_state=42)\n",
    "print(\"Training set - Features shape:\", X_train.shape, \" Target shape:\", y_train.shape)\n",
    "print(\"Testing set - Features shape:\", X_test.shape, \" Target shape:\", y_test.shape)\n",
    "\n",
    "\n"
   ]
  },
  {
   "cell_type": "markdown",
   "metadata": {},
   "source": [
    "Exercise: Explore the basic statistics of a dataset, such as mean, median, and standard deviation for each feature."
   ]
  },
  {
   "cell_type": "code",
   "execution_count": 145,
   "metadata": {},
   "outputs": [
    {
     "name": "stdout",
     "output_type": "stream",
     "text": [
      "       fruit_label          mass      width     height  color_score\n",
      "count    60.000000     60.000000  60.000000  60.000000    60.000000\n",
      "mean      2.916667    762.039216   7.048333   7.711765     0.748167\n",
      "std       1.139308   3846.169893   0.829844   1.337801     0.070555\n",
      "min       1.000000     76.000000   5.800000   4.000000     0.550000\n",
      "25%       2.000000    141.500000   6.275000   7.300000     0.717500\n",
      "50%       3.000000    165.000000   7.200000   7.711765     0.730000\n",
      "75%       4.000000    205.500000   7.325000   8.125000     0.790000\n",
      "max       4.000000  30000.000000   9.600000  10.500000     0.930000\n",
      "Mean for the features:  fruit_label      2.916667\n",
      "mass           762.039216\n",
      "width            7.048333\n",
      "height           7.711765\n",
      "color_score      0.748167\n",
      "dtype: float64\n",
      "Median for the features:  fruit_label      3.000000\n",
      "mass           165.000000\n",
      "width            7.200000\n",
      "height           7.711765\n",
      "color_score      0.730000\n",
      "dtype: float64\n",
      "Standard deviation for the features:  fruit_label       1.139308\n",
      "mass           3846.169893\n",
      "width             0.829844\n",
      "height            1.337801\n",
      "color_score       0.070555\n",
      "dtype: float64\n"
     ]
    }
   ],
   "source": [
    "df = pd.read_csv(\"fruit_data_with_colors.csv\")\n",
    "df = df.select_dtypes(include=['int64', 'float64'])\n",
    "imputer = SimpleImputer(strategy='mean')\n",
    "df= pd.DataFrame(imputer.fit_transform(df), columns=df.columns)\n",
    "stats= df.describe()\n",
    "print(stats)\n",
    "mean= df.mean()\n",
    "median= df.median()\n",
    "stddev= df.std()\n",
    "print(\"Mean for the features: \",mean)\n",
    "print(\"Median for the features: \",median)\n",
    "print(\"Standard deviation for the features: \",stddev)"
   ]
  },
  {
   "cell_type": "markdown",
   "metadata": {},
   "source": [
    "Exercise: Visualize the distribution of one of the features in the dataset using a histogram."
   ]
  },
  {
   "cell_type": "code",
   "execution_count": 146,
   "metadata": {},
   "outputs": [
    {
     "data": {
      "image/png": "[encoded data removed]",
      "text/plain": [
       "<Figure size 900x500 with 1 Axes>"
      ]
     },
     "metadata": {},
     "output_type": "display_data"
    }
   ],
   "source": [
    "import matplotlib.pyplot as plt\n",
    "df = pd.read_csv(\"fruit_data_with_colors.csv\")\n",
    "\n",
    "feature = 'height'\n",
    "plt.figure(figsize=(9, 5))\n",
    "plt.hist(df[feature], bins=20, edgecolor='k', alpha=0.9)\n",
    "plt.title(f'Distribution of {feature}')\n",
    "plt.xlabel(feature)\n",
    "plt.ylabel('Frequency')\n",
    "plt.show()\n"
   ]
  },
  {
   "cell_type": "markdown",
   "metadata": {},
   "source": [
    "Exercise: Write a Python script to create a list of 10 numbers and compute their mean."
   ]
  },
  {
   "cell_type": "code",
   "execution_count": 147,
   "metadata": {},
   "outputs": [
    {
     "name": "stdout",
     "output_type": "stream",
     "text": [
      "Numbers  [3, 2, 6, 1, 4, 2, 2, 2, 5, 8]\n",
      "Mean 3.5\n"
     ]
    }
   ],
   "source": [
    "import random\n",
    "random_numbers = [random.randint(1,10) for _ in range(10)]\n",
    "print(\"Numbers \",random_numbers)\n",
    "mean= sum(random_numbers)/len(random_numbers)\n",
    "print(\"Mean\",mean)"
   ]
  },
  {
   "cell_type": "markdown",
   "metadata": {},
   "source": [
    "Exercise: Create a function that takes a list of numbers and returns a dictionary with the count, mean, median, and standard deviation."
   ]
  },
  {
   "cell_type": "code",
   "execution_count": 148,
   "metadata": {},
   "outputs": [
    {
     "name": "stdout",
     "output_type": "stream",
     "text": [
      "{'Count': 15, 'Mean': 16.333333333333332, 'Median': 15.0, 'Standard Deviation': 8.684596837057102}\n"
     ]
    }
   ],
   "source": [
    "import numpy as np\n",
    "def return_dict(list):\n",
    "    dictionary = {}\n",
    "    dictionary['Count'] = len(list)\n",
    "    dictionary['Mean'] = np.mean(list)\n",
    "    dictionary['Median'] = np.median(list)\n",
    "    dictionary['Standard Deviation'] = np.std(list)\n",
    "    \n",
    "    return dictionary\n",
    "\n",
    "\n",
    "list = [random.randint(1,30) for _ in range(15)]\n",
    "\n",
    "result= return_dict(list)  \n",
    "print(result)"
   ]
  },
  {
   "cell_type": "markdown",
   "metadata": {},
   "source": [
    "Exercise: Generate a 5x5 matrix of random numbers and print it."
   ]
  },
  {
   "cell_type": "code",
   "execution_count": 149,
   "metadata": {},
   "outputs": [
    {
     "name": "stdout",
     "output_type": "stream",
     "text": [
      "[[47 13 43 22 36]\n",
      " [47 37 41 44 28]\n",
      " [42 35 34  2 37]\n",
      " [34 16 39 46 41]\n",
      " [39  1 23 26 46]]\n"
     ]
    }
   ],
   "source": [
    "import numpy as np\n",
    "matrix = np.random.randint(1, 50, size=(5,5))\n",
    "print(matrix)"
   ]
  },
  {
   "cell_type": "markdown",
   "metadata": {},
   "source": [
    "Exercise: Load a CSV file into a Pandas DataFrame and print summary statistics for each column."
   ]
  },
  {
   "cell_type": "code",
   "execution_count": 150,
   "metadata": {},
   "outputs": [
    {
     "name": "stdout",
     "output_type": "stream",
     "text": [
      "       fruit_label          mass      width     height  color_score\n",
      "count    60.000000     51.000000  60.000000  51.000000    60.000000\n",
      "mean      2.916667    762.039216   7.048333   7.711765     0.748167\n",
      "std       1.139308   4178.009928   0.829844   1.453224     0.070555\n",
      "min       1.000000     76.000000   5.800000   4.000000     0.550000\n",
      "25%       2.000000    131.000000   6.275000   7.250000     0.717500\n",
      "50%       3.000000    158.000000   7.200000   7.700000     0.730000\n",
      "75%       4.000000    183.000000   7.325000   8.300000     0.790000\n",
      "max       4.000000  30000.000000   9.600000  10.500000     0.930000\n"
     ]
    }
   ],
   "source": [
    "# we are using 'fruit_data_with_colors' dataset\n",
    "df = pd.read_csv(\"fruit_data_with_colors.csv\")\n",
    "stats= df.describe()\n",
    "print(stats)"
   ]
  },
  {
   "cell_type": "markdown",
   "metadata": {},
   "source": [
    "Exercise: Implement a simple linear regression model using Scikit-Learn and print the model coefficients"
   ]
  },
  {
   "cell_type": "code",
   "execution_count": 151,
   "metadata": {},
   "outputs": [
    {
     "name": "stdout",
     "output_type": "stream",
     "text": [
      "   fruit_label fruit_name fruit_subtype   mass  width  height  color_score\n",
      "0            1      apple  granny_smith  192.0    8.4     7.3         0.55\n",
      "1            1      apple  granny_smith  180.0    8.0     6.8         0.59\n",
      "2            1      apple  granny_smith  176.0    7.4     7.2         0.60\n",
      "3            2   mandarin      mandarin   86.0    6.2     4.7         0.80\n",
      "4            2   mandarin      mandarin   84.0    6.0     4.6         0.79\n",
      "\n",
      "Coefficient : width  [111.30100238]\n"
     ]
    }
   ],
   "source": [
    "from sklearn.linear_model import LinearRegression\n",
    "\n",
    "df = pd.read_csv(\"fruit_data_with_colors.csv\")\n",
    "print(df.head())\n",
    "print()\n",
    "\n",
    "X = df[[\"width\"]].fillna(df[\"width\"].mean())\n",
    "y = df[[\"mass\"]].fillna(df[\"mass\"].mean())\n",
    "\n",
    "model = LinearRegression()\n",
    "model.fit(X, y)\n",
    "print(\"Coefficient : width \", model.coef_[0])"
   ]
  }
 ],
 "metadata": {
  "kernelspec": {
   "display_name": "Python 3",
   "language": "python",
   "name": "python3"
  },
  "language_info": {
   "codemirror_mode": {
    "name": "ipython",
    "version": 3
   },
   "file_extension": ".py",
   "mimetype": "text/x-python",
   "name": "python",
   "nbconvert_exporter": "python",
   "pygments_lexer": "ipython3",
   "version": "3.12.0"
  }
 },
 "nbformat": 4,
 "nbformat_minor": 2
}
