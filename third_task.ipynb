{
 "cells": [
  {
   "cell_type": "markdown",
   "metadata": {},
   "source": [
    "1. Recursive Factorial\n",
    "   - Write a recursive function to calculate the factorial of a given number.\n",
    "   - Expected output: If the input is 5, the output should be \"The factorial of 5 is 120.\"\n"
   ]
  },
  {
   "cell_type": "code",
   "execution_count": 58,
   "metadata": {},
   "outputs": [
    {
     "name": "stdout",
     "output_type": "stream",
     "text": [
      "The factorial of 5 is 120\n"
     ]
    }
   ],
   "source": [
    "def recursive_factorial(n):\n",
    "    if n > 1:\n",
    "        factorial = n * recursive_factorial(n - 1)\n",
    "        return factorial\n",
    "    else:\n",
    "        return 1\n",
    "\n",
    "\n",
    "n = int(input(\"Enter a numtber to find factorial of: \"))\n",
    "fact = recursive_factorial(n)\n",
    "print(\"The factorial of\", n, \"is\", fact)"
   ]
  },
  {
   "cell_type": "markdown",
   "metadata": {},
   "source": [
    "2. Palindrome Linked List\n",
    "   - Write a program to determine if a given linked list is a palindrome.\n",
    "   - Expected output: If the linked list is `1 -> 2 -> 3 -> 2 -> 1`, the output should be \"The linked list is a palindrome.\" If the linked list is `1 -> 2 -> 3 -> 4 -> 5`, the output should be \"The linked list is not a palindrome.\"\n"
   ]
  },
  {
   "cell_type": "code",
   "execution_count": 59,
   "metadata": {},
   "outputs": [
    {
     "name": "stdout",
     "output_type": "stream",
     "text": [
      "The string is not a palindrome\n"
     ]
    }
   ],
   "source": [
    "\n",
    "def isPalindrome(ll):\n",
    "   start= 0\n",
    "   end= len(ll) -1\n",
    "   while start < end:\n",
    "      if ll[start] != ll[end]:\n",
    "       return  False\n",
    "      start= start + 1\n",
    "      end= end - 1\n",
    "\n",
    "   return True\n",
    "   \n",
    "\n",
    "ll=[1,2,3,3,1]   \n",
    "\n",
    "if isPalindrome(ll):\n",
    "    print(\"The string is a palindrome\")\n",
    "else:\n",
    "    print(\"The string is not a palindrome\")   \n",
    "\n",
    "\n"
   ]
  },
  {
   "cell_type": "markdown",
   "metadata": {},
   "source": [
    "3. Merge Sorted Arrays\n",
    "   - Write a function that takes two sorted arrays and merges them into a single sorted array.\n",
    "   - Expected output: If the two input arrays are `[1, 3, 5]` and `[2, 4, 6]`, the output should be `[1, 2, 3, 4, 5, 6]`.\n"
   ]
  },
  {
   "cell_type": "code",
   "execution_count": 60,
   "metadata": {},
   "outputs": [
    {
     "name": "stdout",
     "output_type": "stream",
     "text": [
      "[1, 2, 3, 4, 5, 6]\n"
     ]
    }
   ],
   "source": [
    "def merge_sorted_arrays(array1, array2):\n",
    "    array3 = []\n",
    "    i = 0\n",
    "    j = 0\n",
    "    n1 = len(array1)\n",
    "    n2 = len(array2)\n",
    "\n",
    "    while i < n1 and j < n2:\n",
    "        if array1[i] < array2[j]:\n",
    "            array3.append(array1[i])\n",
    "            i += 1\n",
    "        else:\n",
    "            array3.append(array2[j])\n",
    "            j += 1\n",
    "\n",
    "    while i < n1:\n",
    "        array3.append(array1[i])\n",
    "        i += 1\n",
    "\n",
    "    while j < n2:\n",
    "        array3.append(array2[j])\n",
    "        j += 1\n",
    "\n",
    "    return array3\n",
    "\n",
    "\n",
    "array1 = [1, 3, 5]\n",
    "array2 = [2, 4, 6]\n",
    "\n",
    "merged_array = merge_sorted_arrays(array1, array2)\n",
    "print(merged_array)"
   ]
  },
  {
   "cell_type": "markdown",
   "metadata": {},
   "source": [
    "4. Binary Search Tree\n",
    "   - Implement a Binary Search Tree (BST) data structure, including methods for insertion, deletion, and search.\n",
    "   - Expected output: The program should be able to perform various BST operations and print the results.\n"
   ]
  },
  {
   "cell_type": "code",
   "execution_count": 61,
   "metadata": {},
   "outputs": [
    {
     "name": "stdout",
     "output_type": "stream",
     "text": [
      "Preorder:\n",
      "50\t30\t10\t9\t60\t55\t70\t\n",
      "Inorder:\n",
      "9\t10\t30\t50\t55\t60\t70\t\n",
      "Postorder:\n",
      "9\t10\t30\t55\t70\t60\t50\t\n",
      "After deletion:\n",
      "Inorder:\n",
      "9\t10\t30\t55\t60\t70\t\n",
      "After deletion:\n",
      "Inorder:\n",
      "9\t10\t55\t60\t70\t\n"
     ]
    }
   ],
   "source": [
    "class Node:\n",
    "    def __init__(self, val):\n",
    "        self.info = val\n",
    "        self.left = None\n",
    "        self.right = None\n",
    "\n",
    "\n",
    "class Tree:\n",
    "    def __init__(self):\n",
    "        self.root = None\n",
    "\n",
    "    def delete_tree(self, leaf):\n",
    "        if leaf:\n",
    "            self.delete_tree(leaf.left)\n",
    "            self.delete_tree(leaf.right)\n",
    "            del leaf\n",
    "\n",
    "    def __del__(self):\n",
    "        self.delete_tree(self.root)\n",
    "\n",
    "    def insert(self, curr, val):\n",
    "        if curr is None:\n",
    "            return Node(val)\n",
    "        if val < curr.info:\n",
    "            curr.left = self.insert(curr.left, val)\n",
    "        elif val > curr.info:\n",
    "            curr.right = self.insert(curr.right, val)\n",
    "        return curr\n",
    "\n",
    "    def pre_order(self, n):\n",
    "        if n is None:\n",
    "            return\n",
    "        print(n.info, end=\"\\t\")\n",
    "        self.pre_order(n.left)\n",
    "        self.pre_order(n.right)\n",
    "\n",
    "    def in_order(self, n):\n",
    "        if n is None:\n",
    "            return\n",
    "        self.in_order(n.left)\n",
    "        print(n.info, end=\"\\t\")\n",
    "        self.in_order(n.right)\n",
    "\n",
    "    def post_order(self, n):\n",
    "        if n is None:\n",
    "            return\n",
    "        self.post_order(n.left)\n",
    "        self.post_order(n.right)\n",
    "        print(n.info, end=\"\\t\")\n",
    "\n",
    "    def parent(self, curr, p, par):\n",
    "        if curr is None:\n",
    "            return None\n",
    "        if curr == p:\n",
    "            return par\n",
    "        t = self.parent(curr.left, p, curr)\n",
    "        if t is not None:\n",
    "            return t\n",
    "        return self.parent(curr.right, p, curr)\n",
    "\n",
    "    def find(self, n, val):\n",
    "        if n is None:\n",
    "            return None\n",
    "        if n.info == val:\n",
    "            return n\n",
    "        t = self.find(n.left, val)\n",
    "        if t is not None:\n",
    "            return t\n",
    "        return self.find(n.right, val)\n",
    "\n",
    "    def inorder_predecessor(self, root, n):\n",
    "        if n.left is not None:\n",
    "            current = n.left\n",
    "            while current.right is not None:\n",
    "                current = current.right\n",
    "            return current\n",
    "        else:\n",
    "            current = n\n",
    "            par = self.parent(root, current, None)\n",
    "            while par is not None and par.left == current:\n",
    "                current = par\n",
    "                par = self.parent(root, current, None)\n",
    "            return par\n",
    "\n",
    "    def inorder_successor(self, root, n):\n",
    "        if n.right is not None:\n",
    "            current = n.right\n",
    "            while current.left is not None:\n",
    "                current = current.left\n",
    "            return current\n",
    "        else:\n",
    "            current = n\n",
    "            par = self.parent(root, current, None)\n",
    "            while par is not None and par.right == current:\n",
    "                current = par\n",
    "                par = self.parent(root, current, None)\n",
    "            return par\n",
    "\n",
    "    def delete_node(self, val):\n",
    "        curr = self.find(self.root, val)\n",
    "        par = self.parent(self.root, curr, None)\n",
    "\n",
    "        if curr.left is None and curr.right is None:\n",
    "            if par.left == curr:\n",
    "                par.left = None\n",
    "            else:\n",
    "                par.right = None\n",
    "            del curr\n",
    "            return self.root\n",
    "\n",
    "        elif curr.left is None and curr.right is not None:\n",
    "            if par.left == curr:\n",
    "                par.left = curr.right\n",
    "            else:\n",
    "                par.right = curr.right\n",
    "            del curr\n",
    "            return self.root\n",
    "\n",
    "        elif curr.left is not None and curr.right is None:\n",
    "            if par.left == curr:\n",
    "                par.left = curr.left\n",
    "            else:\n",
    "                par.right = curr.left\n",
    "            del curr\n",
    "            return self.root\n",
    "\n",
    "        elif curr.left is not None and curr.right is not None:\n",
    "            pre = self.inorder_predecessor(self.root, curr)\n",
    "            succ = self.inorder_successor(self.root, curr)\n",
    "            if pre is not None:\n",
    "                prepar = self.parent(self.root, pre, None)\n",
    "                curr.info = pre.info\n",
    "                if prepar.left == pre:\n",
    "                    prepar.left = pre.left\n",
    "                else:\n",
    "                    prepar.right = pre.left\n",
    "                del pre\n",
    "                return self.root\n",
    "            else:\n",
    "                succpar = self.parent(self.root, succ, None)\n",
    "                curr.info = succ.info\n",
    "                if succpar.left == succ:\n",
    "                    succpar.left = None\n",
    "                else:\n",
    "                    succpar.right = None\n",
    "                del succ\n",
    "                return self.root\n",
    "\n",
    "        return self.root\n",
    "\n",
    "    def search(self, curr, val):\n",
    "        if curr is None:\n",
    "            return False\n",
    "        if curr.info == val:\n",
    "            return True\n",
    "        elif val < curr.info:\n",
    "            return self.search(curr.left, val)\n",
    "        else:\n",
    "            return self.search(curr.right, val)\n",
    "\n",
    "\n",
    "if __name__ == \"__main__\":\n",
    "    t = Tree()\n",
    "    t.root = t.insert(t.root, 50)\n",
    "    t.root = t.insert(t.root, 60)\n",
    "    t.root = t.insert(t.root, 30)\n",
    "    t.root = t.insert(t.root, 10)\n",
    "    t.root = t.insert(t.root, 9)\n",
    "    t.root = t.insert(t.root, 70)\n",
    "    t.root = t.insert(t.root, 55)\n",
    "\n",
    "    print(\"Preorder:\")\n",
    "    t.pre_order(t.root)\n",
    "    print()\n",
    "\n",
    "    print(\"Inorder:\")\n",
    "    t.in_order(t.root)\n",
    "    print()\n",
    "\n",
    "    print(\"Postorder:\")\n",
    "    t.post_order(t.root)\n",
    "    print()\n",
    "\n",
    "    t.delete_node(50)\n",
    "    print(\"After deletion:\")\n",
    "    print(\"Inorder:\")\n",
    "    t.in_order(t.root)\n",
    "    print()\n",
    "\n",
    "    t.delete_node(30)\n",
    "    print(\"After deletion:\")\n",
    "    print(\"Inorder:\")\n",
    "    t.in_order(t.root)\n",
    "    print()"
   ]
  },
  {
   "cell_type": "markdown",
   "metadata": {},
   "source": [
    "5. Longest Palindromic Substring\n",
    "   - Write a program to find the longest palindromic substring within a given string.\n",
    "   - Expected output: If the input string is \"babad\", the output should be \"bab\" or \"aba\". If the input string is \"cbbd\", the output should be \"bb\".\n"
   ]
  },
  {
   "cell_type": "code",
   "execution_count": 62,
   "metadata": {},
   "outputs": [
    {
     "name": "stdout",
     "output_type": "stream",
     "text": [
      "bab\n"
     ]
    }
   ],
   "source": [
    "def longest_palindrome(s):\n",
    "    longest=\"\"\n",
    "    for i in range(len(s)):\n",
    "        for j in range(i,len(s)):\n",
    "            # print(s[i:j+1])\n",
    "            # print(s[i:j+1][::-1])\n",
    "            if s[i:j+1]==s[i:j+1][::-1]:\n",
    "                if len(s[i:j+1])>len(longest):\n",
    "                    longest=s[i:j+1]\n",
    "    return longest\n",
    "\n",
    "print(longest_palindrome(\"babad\"))"
   ]
  },
  {
   "cell_type": "markdown",
   "metadata": {},
   "source": [
    "6. Merge Intervals\n",
    "   - Write a program to merge overlapping intervals in a list of intervals.\n",
    "   - Expected output: If the input is `[(1, 3), (2, 6), (8, 10), (15, 18)]`, the output should be `[(1, 6), (8, 10), (15, 18)]`.\n"
   ]
  },
  {
   "cell_type": "code",
   "execution_count": 63,
   "metadata": {},
   "outputs": [
    {
     "name": "stdout",
     "output_type": "stream",
     "text": [
      "[(1, 6), (8, 10), (15, 18)]\n"
     ]
    }
   ],
   "source": [
    "def merge_intervals(intervals):\n",
    "    if not intervals:\n",
    "        return []\n",
    "    merged = [intervals[0]]\n",
    "\n",
    "    for i in intervals[1:]:\n",
    "        if intervals_overlap(merged[-1], i):  \n",
    "            merged[-1] = (merged[-1][0], max(merged[-1][1], i[1]))\n",
    "        else:\n",
    "            merged.append(i)\n",
    "    return merged\n",
    "\n",
    "\n",
    "def intervals_overlap(interval1, interval2):\n",
    "    return interval1[0] <= interval2[1] and interval2[0] <= interval1[1]\n",
    "\n",
    "\n",
    "intervals = [(1, 3), (2, 6), (8, 10), (15, 18)]\n",
    "print(merge_intervals(intervals)) "
   ]
  },
  {
   "cell_type": "markdown",
   "metadata": {},
   "source": [
    "7. Maximum Subarray\n",
    "   - Write a program to find the maximum sum of a contiguous subarray within a given array.\n",
    "   - Expected output: If the input array is `[-2, 1, -3, 4, -1, 2, 1, -5, 4]`, the output should be `6`, as the maximum subarray is `[4, -1, 2, 1]`.\n"
   ]
  },
  {
   "cell_type": "code",
   "execution_count": 64,
   "metadata": {},
   "outputs": [
    {
     "name": "stdout",
     "output_type": "stream",
     "text": [
      "6\n"
     ]
    }
   ],
   "source": [
    "def max_subarray(arr):\n",
    "    max_sum=0\n",
    "    for i in range(len(arr)):\n",
    "        for j in range(i,len(arr)):\n",
    "            # print(arr[i:j+1])\n",
    "            if sum(arr[i:j+1])>max_sum:\n",
    "                max_sum=sum(arr[i:j+1])\n",
    "    return max_sum\n",
    "print(max_subarray([-2, 1, -3, 4, -1, 2, 1, -5, 4]))\n"
   ]
  },
  {
   "cell_type": "markdown",
   "metadata": {},
   "source": [
    "8. Reverse Linked List\n",
    "   - Write a program to reverse a singly-linked list.\n",
    "   - Expected output: If the input linked list is `1 -> 2 -> 3 -> 4 -> 5`, the output should be `5 -> 4 -> 3 -> 2 -> 1`.\n"
   ]
  },
  {
   "cell_type": "code",
   "execution_count": 65,
   "metadata": {},
   "outputs": [
    {
     "name": "stdout",
     "output_type": "stream",
     "text": [
      "[5, 4, 3, 2, 1]\n"
     ]
    }
   ],
   "source": [
    "li=[1,2,3,4,5]\n",
    "def reverse_linkedList(li):\n",
    " reversed_list=[]\n",
    " for i in range(len(li)-1, -1, -1):\n",
    "    reversed_list.append(li[i])\n",
    " return reversed_list\n",
    " \n",
    "listtt=reverse_linkedList(li)\n",
    "print(listtt) \n",
    "\n",
    " \n"
   ]
  },
  {
   "cell_type": "markdown",
   "metadata": {},
   "source": [
    "9. Minimum Edit Distance\n",
    "   - Write a program to calculate the minimum number of operations (insertions, deletions, or substitutions) required to transform one string into another.\n",
    "   - Expected output: If the two input strings are \"kitten\" and \"sitting\", the output should be `3`.\n"
   ]
  },
  {
   "cell_type": "code",
   "execution_count": 66,
   "metadata": {},
   "outputs": [
    {
     "name": "stdout",
     "output_type": "stream",
     "text": [
      "3\n"
     ]
    }
   ],
   "source": [
    "def min_operations(s1,s2):\n",
    "    count=0\n",
    "    if len(s1)>len(s2):\n",
    "        count+=len(s1)-len(s2)\n",
    "    if len(s1)<len(s2):\n",
    "        count+=len(s2)-len(s1)\n",
    "    for i in range(len(s1)):\n",
    "        if s1[i]!=s2[i]:\n",
    "            count+=1\n",
    "    \n",
    "    return count\n",
    "\n",
    "print(min_operations(\"kitten\",\"sitting\"))\n",
    "\n",
    "\n",
    "\n",
    "    "
   ]
  },
  {
   "cell_type": "markdown",
   "metadata": {},
   "source": [
    "10. Boggle Game\n",
    "    - Implement a program that solves the Boggle game, given a board and a list of words.\n",
    "    - Expected output: The program should print all the words found in the Boggle board.\n"
   ]
  },
  {
   "cell_type": "code",
   "execution_count": 67,
   "metadata": {},
   "outputs": [
    {
     "name": "stdout",
     "output_type": "stream",
     "text": [
      "['cat', 'cat', 'dog', 'dog', 'dad', 'dad', 'dad', 'dad', 'dad', 'dad', 'dad', 'dad', 'dad', 'dad', 'good', 'good']\n"
     ]
    }
   ],
   "source": [
    "board=[[\"c\",\"a\",\"t\",\"d\",\"o\",\"g\"],[\"a\",\"d\",\"a\",\"d\",\"a\",\"d\"],[\"g\",\"o\",\"o\",\"d\",\"a\",\"d\"],[\"c\",\"a\",\"t\",\"d\",\"o\",\"g\"],[\"a\",\"d\",\"a\",\"d\",\"a\",\"d\"],[\"g\",\"o\",\"o\",\"d\",\"a\",\"d\"]]\n",
    "\n",
    "# for i in range(len(board)):\n",
    "#     print(board[i])\n",
    "\n",
    "\n",
    "words = [\"cat\",\"dog\",\"dad\",\"good\"]\n",
    "\n",
    "def boggle_game(board,words):\n",
    "    words_found=[]\n",
    "    for word in words:\n",
    "        for i in range(len(board)):\n",
    "            for j in range(len(board[i])):\n",
    "                if board[i][j]==word[0]:\n",
    "                    if word in \"\".join(board[i]):\n",
    "                        words_found.append(word)\n",
    "                    if word in \"\".join([board[k][j] for k in range(len(board))]):\n",
    "                        words_found.append(word)\n",
    "    return words_found\n",
    "\n",
    "\n",
    "print(boggle_game(board,words))"
   ]
  }
 ],
 "metadata": {
  "kernelspec": {
   "display_name": "Python 3",
   "language": "python",
   "name": "python3"
  },
  "language_info": {
   "codemirror_mode": {
    "name": "ipython",
    "version": 3
   },
   "file_extension": ".py",
   "mimetype": "text/x-python",
   "name": "python",
   "nbconvert_exporter": "python",
   "pygments_lexer": "ipython3",
   "version": "3.12.0"
  }
 },
 "nbformat": 4,
 "nbformat_minor": 2
}
