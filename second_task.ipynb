{
 "cells": [
  {
   "cell_type": "markdown",
   "metadata": {},
   "source": [
    "1. Palindrome Checker (Word)\n",
    "\n",
    "• Write a program to check if a given word is a palindrome (reads the same forwards and backwards).\n",
    "\n",
    "• Expected output: If the input is \"racecar\", the output should be \"racecar is a palindrome.\" If the input is \"Python\", the output should be \"Python is not a palindrome.”\n"
   ]
  },
  {
   "cell_type": "code",
   "execution_count": 65,
   "metadata": {},
   "outputs": [
    {
     "name": "stdout",
     "output_type": "stream",
     "text": [
      "racecar  is a palindrome\n"
     ]
    }
   ],
   "source": [
    "def is_palindrome(word):\n",
    "    start = 0\n",
    "    end = len(word) - 1\n",
    "    while start < end:\n",
    "        if word[start] != word[end]:\n",
    "            return False\n",
    "        start = start + 1\n",
    "        end = end - 1\n",
    "    return True\n",
    "\n",
    "word = input(\"Enter a string: \")\n",
    "\n",
    "if is_palindrome(word):\n",
    "    print(word,\" is a palindrome\")\n",
    "else:\n",
    "    print(word, \" is not a palindrome\")\n",
    "\n"
   ]
  },
  {
   "cell_type": "markdown",
   "metadata": {},
   "source": [
    "2. FizzBuzz\n",
    " Write a program that prints the numbers from 1 to 100. For multiples of 3, print \"Fizz\" instead of the number, and for multiples of 5, print \"Buzz\". For numbers that are multiples \n",
    " \n",
    " of both 3 and 5, print \"FizzBuzz\".\n"
   ]
  },
  {
   "cell_type": "code",
   "execution_count": 67,
   "metadata": {},
   "outputs": [
    {
     "name": "stdout",
     "output_type": "stream",
     "text": [
      "1\n",
      "2\n",
      "Fizz\n",
      "4\n",
      "Buzz\n",
      "Fizz\n",
      "7\n",
      "8\n",
      "Fizz\n",
      "Buzz\n",
      "11\n",
      "Fizz\n",
      "13\n",
      "14\n",
      "FizzBuzz\n",
      "16\n",
      "17\n",
      "Fizz\n",
      "19\n",
      "Buzz\n",
      "Fizz\n",
      "22\n",
      "23\n",
      "Fizz\n",
      "Buzz\n",
      "26\n",
      "Fizz\n",
      "28\n",
      "29\n",
      "FizzBuzz\n",
      "31\n",
      "32\n",
      "Fizz\n",
      "34\n",
      "Buzz\n",
      "Fizz\n",
      "37\n",
      "38\n",
      "Fizz\n",
      "Buzz\n",
      "41\n",
      "Fizz\n",
      "43\n",
      "44\n",
      "FizzBuzz\n",
      "46\n",
      "47\n",
      "Fizz\n",
      "49\n",
      "Buzz\n",
      "Fizz\n",
      "52\n",
      "53\n",
      "Fizz\n",
      "Buzz\n",
      "56\n",
      "Fizz\n",
      "58\n",
      "59\n",
      "FizzBuzz\n",
      "61\n",
      "62\n",
      "Fizz\n",
      "64\n",
      "Buzz\n",
      "Fizz\n",
      "67\n",
      "68\n",
      "Fizz\n",
      "Buzz\n",
      "71\n",
      "Fizz\n",
      "73\n",
      "74\n",
      "FizzBuzz\n",
      "76\n",
      "77\n",
      "Fizz\n",
      "79\n",
      "Buzz\n",
      "Fizz\n",
      "82\n",
      "83\n",
      "Fizz\n",
      "Buzz\n",
      "86\n",
      "Fizz\n",
      "88\n",
      "89\n",
      "FizzBuzz\n",
      "91\n",
      "92\n",
      "Fizz\n",
      "94\n",
      "Buzz\n",
      "Fizz\n",
      "97\n",
      "98\n",
      "Fizz\n"
     ]
    }
   ],
   "source": [
    "for i in range(1,100):\n",
    "\n",
    "    if i%3==0 and i%5==0:                \n",
    "        print(\"FizzBuzz\")\n",
    "    elif i%5==0:\n",
    "        print(\"Buzz\")\n",
    "    elif i%3==0:\n",
    "        print(\"Fizz\")\n",
    "    else:\n",
    "        print(i)  \n"
   ]
  },
  {
   "cell_type": "markdown",
   "metadata": {},
   "source": [
    "3. Nth Fibonacci Number\n",
    "\n",
    "• Write a program to find the nth Fibonacci number.\n",
    "\n",
    "• Expected output: If the input is 10, the output should be \"The 10th Fibonacci number is 55.”\n"
   ]
  },
  {
   "cell_type": "code",
   "execution_count": 68,
   "metadata": {},
   "outputs": [
    {
     "name": "stdout",
     "output_type": "stream",
     "text": [
      "The 10th Fibonacci number is 55.\n"
     ]
    }
   ],
   "source": [
    "def fibonacci(n):\n",
    "    if n <= 0:\n",
    "        return 0\n",
    "    elif n == 1:\n",
    "        return 1\n",
    "    else:\n",
    "        return fibonacci(n-1) + fibonacci(n-2)\n",
    "\n",
    "\n",
    "n = int(input(\"Enter the value of n: \"))\n",
    "fib_number = fibonacci(n)\n",
    "print(f\"The {n}th Fibonacci number is {fib_number}.\")\n",
    "\n",
    "\n"
   ]
  },
  {
   "cell_type": "markdown",
   "metadata": {},
   "source": [
    "4. Prime Number Checker\n",
    "   - Write a program to check if a given number is prime.\n",
    "   - Expected output: If the input is 7, the output should be \"7 is a prime number.\" If the input is 10, the output should be \"10 is not a prime number.\"\n"
   ]
  },
  {
   "cell_type": "code",
   "execution_count": 69,
   "metadata": {},
   "outputs": [
    {
     "name": "stdout",
     "output_type": "stream",
     "text": [
      "7  is a prime number\n"
     ]
    }
   ],
   "source": [
    "def check_prime(number):\n",
    "    is_prime = True  \n",
    "    for i in range(2, number // 2 + 1):  \n",
    "        if number % i == 0:\n",
    "            is_prime = False\n",
    "            break  \n",
    "    return is_prime\n",
    "\n",
    "number = int(input(\"Enter a number: \"))\n",
    "\n",
    "if check_prime(number):\n",
    "    print(number, \" is a prime number\")\n",
    "else:\n",
    "    print(number, \"is not a prime number\")\n"
   ]
  },
  {
   "cell_type": "markdown",
   "metadata": {},
   "source": [
    "5. Guess the Number Game\n",
    "   - Write a program where the computer generates a random number, and the user has to guess it.\n",
    "   - Expected output: The program should prompt the user to enter a guess and provide feedback on whether the guess is too high, too low, or correct.\n"
   ]
  },
  {
   "cell_type": "code",
   "execution_count": 31,
   "metadata": {},
   "outputs": [
    {
     "name": "stdout",
     "output_type": "stream",
     "text": [
      "your guess is too low\n"
     ]
    }
   ],
   "source": [
    "import random\n",
    "number= random.randint(1, 100)\n",
    "# print(number)\n",
    "\n",
    "inp=int(input(\"Enter a guess: \"))\n",
    "if(inp==number):\n",
    "    print(\"congratulations!! You guessed it right\")\n",
    "elif(inp < number):\n",
    "    print(\"your guess is too low\") \n",
    "else:\n",
    "    print(\"your guess is too high\")  \n",
    "\n",
    "\n"
   ]
  },
  {
   "cell_type": "markdown",
   "metadata": {},
   "source": [
    "6. List Comprehension\n",
    "   - Write a program that uses list comprehension to create a list of squares of the first 10 integers.\n",
    "   - Expected output: `[1, 4, 9, 16, 25, 36, 49, 64, 81, 100]`\n"
   ]
  },
  {
   "cell_type": "code",
   "execution_count": 34,
   "metadata": {},
   "outputs": [
    {
     "name": "stdout",
     "output_type": "stream",
     "text": [
      "[1, 4, 9, 16, 25, 36, 49, 64, 81, 100]\n"
     ]
    }
   ],
   "source": [
    "list=[]\n",
    "for i in range(1, 11):\n",
    "    \n",
    "    sq= i**2 \n",
    "    list.append(sq)\n",
    "print(list)    \n"
   ]
  },
  {
   "cell_type": "markdown",
   "metadata": {},
   "source": [
    "7. Palindrome Sentences\n",
    "   - Write a program to check if a given sentence is a palindrome (reads the same forwards and backwards, ignoring spaces and punctuation).\n",
    "   - Expected output: If the input is \"A man, a plan, a canal: Panama\", the output should be \"A man, a plan, a canal: Panama is a palindrome.\" If the input is \"Hello, world!\", the output should be \"Hello, world! is not a palindrome.\"\n"
   ]
  },
  {
   "cell_type": "code",
   "execution_count": 57,
   "metadata": {},
   "outputs": [
    {
     "name": "stdout",
     "output_type": "stream",
     "text": [
      "amanaplanacanalpanama\n",
      "The string is a palindrome\n"
     ]
    }
   ],
   "source": [
    "      \n",
    "def is_palindrome(word):\n",
    " w=word.lower()\n",
    " w = ''.join([char for char in w if char.isalpha()])\n",
    " print(w)\n",
    " start= 0\n",
    " end= len(w)-1\n",
    " while start < end: \n",
    "    if w[start] != w[end]: \n",
    "        break\n",
    "    start= start + 1\n",
    "    end= end -1\n",
    "    return True\n",
    "\n",
    "word = input(\"Enter a string: \")\n",
    "\n",
    "if is_palindrome(word):\n",
    "    print(\"The string is a palindrome\")\n",
    "else:\n",
    "    print(\"The string is not a palindrome\")\n",
    "\n"
   ]
  },
  {
   "cell_type": "markdown",
   "metadata": {},
   "source": [
    "8. Anagram Checker\n",
    "   - Write a program to check if two strings are anagrams (contain the same characters in a different order).\n",
    "   - Expected output: If the two strings are \"listen\" and \"silent\", the output should be \"listen and silent are anagrams.\" If the two strings are \"python\" and \"java\", the output should be \"python and java are not anagrams.\"\n",
    "\n"
   ]
  },
  {
   "cell_type": "code",
   "execution_count": 53,
   "metadata": {},
   "outputs": [
    {
     "name": "stdout",
     "output_type": "stream",
     "text": [
      "listen and silent are anagram\n"
     ]
    }
   ],
   "source": [
    "string1= input(\"Enter string 1\")\n",
    "string2= input(\"Enter string 2\")\n",
    "flag= True\n",
    "for i in string1:\n",
    "    if i not in string2:\n",
    "        flag=False\n",
    "for s in string2:\n",
    "        if s not in string1:\n",
    "            flag=False\n",
    "if(flag==True):\n",
    "     print(string1,\"and\", string2, \"are anagram\")\n",
    "else:\n",
    "     print(string1,\"and\", string2, \"are not anagram\")        "
   ]
  },
  {
   "cell_type": "markdown",
   "metadata": {},
   "source": [
    "9. Reverse Words in a Sentence\n",
    "   - Write a program to reverse the order of words in a given sentence.\n",
    "   - Expected output: If the input sentence is \"The quick brown fox jumps over the lazy dog.\", the output should be \"dog. lazy the over jumps fox brown quick The\"\n"
   ]
  },
  {
   "cell_type": "code",
   "execution_count": 55,
   "metadata": {},
   "outputs": [
    {
     "name": "stdout",
     "output_type": "stream",
     "text": [
      "The quick brown fox jumps over the lazy dog.\n",
      "The reversed string is:    dog. lazy the over jumps fox brown quick The \n"
     ]
    }
   ],
   "source": [
    "def reverse_sentence(sentence):\n",
    "    words = sentence.split()\n",
    "    reversed_sentence = ''\n",
    "    for i in range(len(words) - 1, -1, -1):\n",
    "        reversed_sentence += words[i] + ' '\n",
    "    return reversed_sentence\n",
    "\n",
    "string = input(\"Enter a string: \")\n",
    "\n",
    "reversed_string = reverse_sentence(string)\n",
    "\n",
    "print(\"The reversed string is:\", reversed_string)\n"
   ]
  },
  {
   "cell_type": "markdown",
   "metadata": {},
   "source": [
    "10. Temperature Converter\n",
    "    - Write a program that can convert temperatures between Celsius, Fahrenheit, and Kelvin.\n",
    "    - Expected output: If the input is 20 degrees Celsius, the output should be \"20 degrees Celsius is equal to 68 degrees Fahrenheit and 293.15 degrees Kelvin.\"\n",
    "\n"
   ]
  },
  {
   "cell_type": "code",
   "execution_count": 61,
   "metadata": {},
   "outputs": [
    {
     "name": "stdout",
     "output_type": "stream",
     "text": [
      "20 degrees Celsius is equal to 68.0 degrees Fahrenheit and  293.15 degrees Kelvin\n"
     ]
    }
   ],
   "source": [
    "\n",
    "def convert_toFahrenheit(temp):\n",
    "    fahrenheit= (9/5*temp) + 32\n",
    "    return fahrenheit\n",
    "\n",
    "def convert_toKelvin(temp):\n",
    "    kelvin= temp + 273.15\n",
    "    return kelvin\n",
    "\n",
    "temp=int(input(\"Enter the temperature in celsius\"))\n",
    "\n",
    "fht= convert_toFahrenheit(temp)\n",
    "kvn= convert_toKelvin(temp)\n",
    "\n",
    "print(temp, \"degrees Celsius is equal to\", fht,\"degrees Fahrenheit and \", kvn, \"degrees Kelvin\")\n",
    "\n",
    "\n"
   ]
  }
 ],
 "metadata": {
  "kernelspec": {
   "display_name": "Python 3",
   "language": "python",
   "name": "python3"
  },
  "language_info": {
   "codemirror_mode": {
    "name": "ipython",
    "version": 3
   },
   "file_extension": ".py",
   "mimetype": "text/x-python",
   "name": "python",
   "nbconvert_exporter": "python",
   "pygments_lexer": "ipython3",
   "version": "3.12.0"
  }
 },
 "nbformat": 4,
 "nbformat_minor": 2
}
