{
 "cells": [
  {
   "cell_type": "markdown",
   "metadata": {
    "slideshow": {
     "slide_type": "notes"
    }
   },
   "source": [
    "Exercise: Sum of Two Numbers\n",
    "\n",
    "Task: Write a program that takes two numbers from the user and prints their sum.\n"
   ]
  },
  {
   "cell_type": "code",
   "execution_count": 29,
   "metadata": {},
   "outputs": [
    {
     "name": "stdout",
     "output_type": "stream",
     "text": [
      "The sum is:  7\n"
     ]
    }
   ],
   "source": [
    "\n",
    "num1=int(input('enter first number: '))\n",
    "num2= int(input('enter second numtber: '))\n",
    "\n",
    "sum=num1+num2\n",
    "print(\"The sum is: \", sum)\n"
   ]
  },
  {
   "cell_type": "markdown",
   "metadata": {},
   "source": [
    "Exercise : Area of a Circle\n",
    "\n",
    "Task: Write a program to calculate the area of a circle given its radius.\n"
   ]
  },
  {
   "cell_type": "code",
   "execution_count": 12,
   "metadata": {},
   "outputs": [
    {
     "name": "stdout",
     "output_type": "stream",
     "text": [
      "The area of the circle is:  78.53981633974483\n"
     ]
    }
   ],
   "source": [
    "import math\n",
    "radius=int(input(\"Enter the radius of the circle: \"))\n",
    "area= math.pi*(radius**2)\n",
    "print(\"The area of the circle is: \", area)"
   ]
  },
  {
   "cell_type": "markdown",
   "metadata": {},
   "source": [
    "Exercise: Even or Odd\n",
    "\n",
    "Task: Write a program that checks if a number is even or odd.\n"
   ]
  },
  {
   "cell_type": "code",
   "execution_count": 13,
   "metadata": {},
   "outputs": [
    {
     "name": "stdout",
     "output_type": "stream",
     "text": [
      "5\n",
      "The number is odd\n"
     ]
    }
   ],
   "source": [
    "number=int(input(\"Enter a number: \"))\n",
    "print(number)\n",
    "if(number%2==0):\n",
    "    print(\"The number is even\")\n",
    "else:\n",
    "    print(\"The number is odd\")    "
   ]
  },
  {
   "cell_type": "markdown",
   "metadata": {},
   "source": [
    "Exercise: Simple Calculator\n",
    "\n",
    "Task: Write a program that performs basic arithmetic operations (addition, subtraction, multiplication, division) based on user input.\n"
   ]
  },
  {
   "cell_type": "code",
   "execution_count": 14,
   "metadata": {},
   "outputs": [
    {
     "name": "stdout",
     "output_type": "stream",
     "text": [
      "The result is :  7\n"
     ]
    }
   ],
   "source": [
    "n1=int(input(\"Enter first number: \"))\n",
    "n2=int(input(\"Enter second number\"))\n",
    "op=input(\"Enter operation (+, -, *, /): \")\n",
    "if(op=='+'):\n",
    "    sum=n1+n2\n",
    "    print(\"The result is : \", sum)\n",
    "elif(op=='-'):\n",
    "     subtraction=n1-n2\n",
    "     print(\"The result is : \", subtraction)\n",
    "elif(op=='*'):\n",
    "         multiply=n1*n2\n",
    "         print(\"The result is : \", multiply)\n",
    "elif(op=='/'):\n",
    "      divide=n1/n2\n",
    "      print(\"The result is \", divide)    \n",
    "else: \n",
    "      print(\"invalid operation\")      \n"
   ]
  },
  {
   "cell_type": "markdown",
   "metadata": {},
   "source": [
    "Exercise: Find the Largest Number\n",
    "\n",
    "Task:Write a program to find the largest of three numbers.\n"
   ]
  },
  {
   "cell_type": "code",
   "execution_count": 15,
   "metadata": {},
   "outputs": [
    {
     "name": "stdout",
     "output_type": "stream",
     "text": [
      "numbers:  5 8 2\n",
      "The largest number is:  8\n"
     ]
    }
   ],
   "source": [
    "first=int(input(\"Enter first number: \"))\n",
    "second=int(input(\"Enter second number: \"))\n",
    "third= int(input(\"Enter third number: \"))\n",
    "print(\"numbers: \", first, second, third)\n",
    "\n",
    "if((first > second) & (first > third)):\n",
    "    print(\"The largest number is: \", first)\n",
    "elif((second > first) & (second > third)):\n",
    "    print(\"The largest number is: \", second)  \n",
    "else: \n",
    "    print(\"The largest number is: \", third)    \n",
    "\n"
   ]
  },
  {
   "cell_type": "markdown",
   "metadata": {},
   "source": [
    "Exercise: Reverse a String\n",
    "\n",
    "Task: Write a program that takes a string from the user and prints it in reverse.\n"
   ]
  },
  {
   "cell_type": "code",
   "execution_count": 16,
   "metadata": {},
   "outputs": [
    {
     "name": "stdout",
     "output_type": "stream",
     "text": [
      "amber\n",
      "The reversed string is:  rebma\n"
     ]
    }
   ],
   "source": [
    "string= str(input(\"Enter a string: \"))\n",
    "print(string)\n",
    "reversed = ''\n",
    "\n",
    "for i in range(len(string) - 1, -1, -1):\n",
    "    reversed=reversed + string[i]\n",
    "print(\"The reversed string is: \", reversed)\n",
    "\n",
    "\n"
   ]
  },
  {
   "cell_type": "markdown",
   "metadata": {},
   "source": [
    "Exercise: Count Vowels\n",
    "\n",
    "Task: Write a program that counts the number of vowels in a given string.\n"
   ]
  },
  {
   "cell_type": "code",
   "execution_count": 17,
   "metadata": {},
   "outputs": [
    {
     "name": "stdout",
     "output_type": "stream",
     "text": [
      "amber khurshid\n",
      "The number of vowels is:  4\n"
     ]
    }
   ],
   "source": [
    "string=str(input(\"Enter a string: \"))\n",
    "print(string)\n",
    "no_of_vowels= 0\n",
    "for i in range(len(string)):\n",
    "    if string[i] in ['a' , 'e' , 'i' , 'o' , 'u']:\n",
    "        # no_of_vowels= 0\n",
    "        no_of_vowels=no_of_vowels+1\n",
    "print(\"The number of vowels is: \", no_of_vowels)        \n",
    "\n",
    "\n"
   ]
  },
  {
   "cell_type": "markdown",
   "metadata": {},
   "source": [
    "Exercise : Fibonacci Sequence\n",
    "\n",
    "Task: Write a program to print the Fibonacci sequence up to n terms.\n"
   ]
  },
  {
   "cell_type": "code",
   "execution_count": 28,
   "metadata": {},
   "outputs": [
    {
     "name": "stdout",
     "output_type": "stream",
     "text": [
      "7\n",
      "0 1  1  2  3  5  8  "
     ]
    }
   ],
   "source": [
    "numt= int(input(\"How many terms? \"))\n",
    "print(numt)\n",
    "\n",
    "n1=0\n",
    "n2=1\n",
    "print( n1, n2 , end='  ' )\n",
    "# print(n2)\n",
    "for _ in range(2, numt):\n",
    "        nextterm=n1+n2\n",
    "        n1=n2\n",
    "        n2=nextterm\n",
    "        print( nextterm , end='  ')    "
   ]
  },
  {
   "cell_type": "markdown",
   "metadata": {},
   "source": [
    "Exercise: Check for Palindrome\n",
    "\n",
    "Task: Write a program to check if a given string is a palindrome.\n"
   ]
  },
  {
   "cell_type": "code",
   "execution_count": 19,
   "metadata": {},
   "outputs": [
    {
     "name": "stdout",
     "output_type": "stream",
     "text": [
      "aka\n",
      "string is a palindrome\n"
     ]
    }
   ],
   "source": [
    "word= input(\"Enter a string: \")\n",
    "print(word)\n",
    "start= 0\n",
    "end= len(word)-1\n",
    "check=1\n",
    "while start < end: \n",
    "    if word[start] != word[end]: \n",
    "        check=0\n",
    "        break\n",
    "    start= start + 1\n",
    "    end= end -1\n",
    "if(check==0):\n",
    "    print(\"string is not a palindrome\")\n",
    "else:\n",
    "    print(\"string is a palindrome\")        \n"
   ]
  }
 ],
 "metadata": {
  "kernelspec": {
   "display_name": "Python 3",
   "language": "python",
   "name": "python3"
  },
  "language_info": {
   "codemirror_mode": {
    "name": "ipython",
    "version": 3
   },
   "file_extension": ".py",
   "mimetype": "text/x-python",
   "name": "python",
   "nbconvert_exporter": "python",
   "pygments_lexer": "ipython3",
   "version": "3.12.0"
  }
 },
 "nbformat": 4,
 "nbformat_minor": 2
}
