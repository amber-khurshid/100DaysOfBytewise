{
 "cells": [
  {
   "cell_type": "code",
   "execution_count": 3,
   "metadata": {},
   "outputs": [],
   "source": [
    "import numpy as np\n",
    "import tensorflow as tf\n",
    "from tensorflow.keras.models import Sequential\n",
    "from tensorflow.keras.layers import Dense, Flatten\n",
    "from tensorflow.keras.utils import to_categorical\n",
    "from tensorflow.keras.datasets import mnist\n"
   ]
  },
  {
   "cell_type": "code",
   "execution_count": 4,
   "metadata": {},
   "outputs": [],
   "source": [
    "# Load the MNIST dataset\n",
    "(X_train, y_train), (X_test, y_test) = mnist.load_data()\n",
    "\n",
    "# Normalize the input data to range [0, 1]\n",
    "X_train = X_train / 255.0\n",
    "X_test = X_test / 255.0\n",
    "\n",
    "# One-hot encode the target labels\n",
    "y_train = to_categorical(y_train, 10)\n",
    "y_test = to_categorical(y_test, 10)\n",
    "\n"
   ]
  },
  {
   "cell_type": "code",
   "execution_count": 5,
   "metadata": {},
   "outputs": [
    {
     "name": "stderr",
     "output_type": "stream",
     "text": [
      "C:\\Users\\HP\\AppData\\Roaming\\Python\\Python312\\site-packages\\keras\\src\\layers\\reshaping\\flatten.py:37: UserWarning: Do not pass an `input_shape`/`input_dim` argument to a layer. When using Sequential models, prefer using an `Input(shape)` object as the first layer in the model instead.\n",
      "  super().__init__(**kwargs)\n"
     ]
    }
   ],
   "source": [
    "# Define the model\n",
    "model = Sequential()\n",
    "\n",
    "# Flatten the input image to a 1D array\n",
    "model.add(Flatten(input_shape=(28, 28)))\n",
    "\n",
    "# Add a fully connected layer with 128 neurons and ReLU activation\n",
    "model.add(Dense(128, activation='relu'))\n",
    "\n",
    "# Add a second fully connected layer with 64 neurons and ReLU activation\n",
    "model.add(Dense(64, activation='relu'))\n",
    "\n",
    "# Add the output layer with 10 neurons (one for each digit) and softmax activation\n",
    "model.add(Dense(10, activation='softmax'))\n"
   ]
  },
  {
   "cell_type": "code",
   "execution_count": 6,
   "metadata": {},
   "outputs": [],
   "source": [
    "# Compile the model\n",
    "model.compile(optimizer='adam',\n",
    "              loss='categorical_crossentropy',\n",
    "              metrics=['accuracy'])\n"
   ]
  },
  {
   "cell_type": "code",
   "execution_count": 7,
   "metadata": {},
   "outputs": [
    {
     "name": "stdout",
     "output_type": "stream",
     "text": [
      "Epoch 1/10\n",
      "1500/1500 - 7s - 5ms/step - accuracy: 0.9216 - loss: 0.2689 - val_accuracy: 0.9588 - val_loss: 0.1410\n",
      "Epoch 2/10\n",
      "1500/1500 - 10s - 6ms/step - accuracy: 0.9662 - loss: 0.1111 - val_accuracy: 0.9697 - val_loss: 0.1064\n",
      "Epoch 3/10\n",
      "1500/1500 - 5s - 3ms/step - accuracy: 0.9760 - loss: 0.0775 - val_accuracy: 0.9719 - val_loss: 0.0886\n",
      "Epoch 4/10\n",
      "1500/1500 - 7s - 5ms/step - accuracy: 0.9817 - loss: 0.0582 - val_accuracy: 0.9745 - val_loss: 0.0918\n",
      "Epoch 5/10\n",
      "1500/1500 - 8s - 5ms/step - accuracy: 0.9856 - loss: 0.0445 - val_accuracy: 0.9745 - val_loss: 0.0864\n",
      "Epoch 6/10\n",
      "1500/1500 - 5s - 3ms/step - accuracy: 0.9877 - loss: 0.0363 - val_accuracy: 0.9717 - val_loss: 0.1018\n",
      "Epoch 7/10\n",
      "1500/1500 - 5s - 3ms/step - accuracy: 0.9900 - loss: 0.0296 - val_accuracy: 0.9759 - val_loss: 0.0939\n",
      "Epoch 8/10\n",
      "1500/1500 - 5s - 4ms/step - accuracy: 0.9918 - loss: 0.0246 - val_accuracy: 0.9737 - val_loss: 0.1038\n",
      "Epoch 9/10\n",
      "1500/1500 - 5s - 3ms/step - accuracy: 0.9927 - loss: 0.0219 - val_accuracy: 0.9739 - val_loss: 0.1098\n",
      "Epoch 10/10\n",
      "1500/1500 - 5s - 3ms/step - accuracy: 0.9932 - loss: 0.0190 - val_accuracy: 0.9743 - val_loss: 0.1141\n"
     ]
    }
   ],
   "source": [
    "# Train the model\n",
    "history = model.fit(X_train, y_train, \n",
    "                    epochs=10, \n",
    "                    batch_size=32, \n",
    "                    validation_split=0.2, \n",
    "                    verbose=2)\n"
   ]
  },
  {
   "cell_type": "code",
   "execution_count": 8,
   "metadata": {},
   "outputs": [
    {
     "name": "stdout",
     "output_type": "stream",
     "text": [
      "313/313 - 1s - 2ms/step - accuracy: 0.9737 - loss: 0.1116\n",
      "Test Accuracy: 0.9737\n"
     ]
    }
   ],
   "source": [
    "# Evaluate the model on the test set\n",
    "test_loss, test_accuracy = model.evaluate(X_test, y_test, verbose=2)\n",
    "print(f'Test Accuracy: {test_accuracy:.4f}')\n"
   ]
  },
  {
   "cell_type": "code",
   "execution_count": 9,
   "metadata": {},
   "outputs": [
    {
     "name": "stdout",
     "output_type": "stream",
     "text": [
      "\u001b[1m313/313\u001b[0m \u001b[32m━━━━━━━━━━━━━━━━━━━━\u001b[0m\u001b[37m\u001b[0m \u001b[1m1s\u001b[0m 2ms/step\n",
      "[7 2 1 0 4]\n"
     ]
    }
   ],
   "source": [
    "# Make predictions on the test set\n",
    "predictions = model.predict(X_test)\n",
    "\n",
    "# Get the predicted class for the first 5 test samples\n",
    "predicted_classes = np.argmax(predictions, axis=1)\n",
    "print(predicted_classes[:5])\n"
   ]
  }
 ],
 "metadata": {
  "kernelspec": {
   "display_name": "Python 3",
   "language": "python",
   "name": "python3"
  },
  "language_info": {
   "codemirror_mode": {
    "name": "ipython",
    "version": 3
   },
   "file_extension": ".py",
   "mimetype": "text/x-python",
   "name": "python",
   "nbconvert_exporter": "python",
   "pygments_lexer": "ipython3",
   "version": "3.12.0"
  }
 },
 "nbformat": 4,
 "nbformat_minor": 2
}
